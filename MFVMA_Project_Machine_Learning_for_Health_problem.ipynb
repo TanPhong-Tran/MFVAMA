{
  "cells": [
    {
      "cell_type": "markdown",
      "source": [
        "# Import Data"
      ],
      "metadata": {
        "id": "c0iGuaD1RLTV"
      },
      "id": "c0iGuaD1RLTV"
    },
    {
      "cell_type": "code",
      "execution_count": 100,
      "id": "c04f9937",
      "metadata": {
        "id": "c04f9937"
      },
      "outputs": [],
      "source": [
        "import numpy as np\n",
        "import pandas as pd\n",
        "import matplotlib.pyplot as plt\n",
        "import seaborn as sns\n",
        "from sklearn.discriminant_analysis import LinearDiscriminantAnalysis as lda"
      ]
    },
    {
      "cell_type": "code",
      "execution_count": 101,
      "id": "842a0604",
      "metadata": {
        "colab": {
          "base_uri": "https://localhost:8080/",
          "height": 36
        },
        "id": "842a0604",
        "outputId": "fd87f3d7-7499-420f-d9f9-c00b63912c49"
      },
      "outputs": [
        {
          "output_type": "execute_result",
          "data": {
            "text/plain": [
              "'/content'"
            ],
            "application/vnd.google.colaboratory.intrinsic+json": {
              "type": "string"
            }
          },
          "metadata": {},
          "execution_count": 101
        }
      ],
      "source": [
        "pwd"
      ]
    },
    {
      "cell_type": "code",
      "execution_count": 102,
      "id": "592d22d4",
      "metadata": {
        "colab": {
          "base_uri": "https://localhost:8080/",
          "height": 317
        },
        "id": "592d22d4",
        "outputId": "cae869a0-0d03-4af1-9945-e7969b9c12c9"
      },
      "outputs": [
        {
          "output_type": "execute_result",
          "data": {
            "text/plain": [
              "         id diagnosis  radius_mean  texture_mean  perimeter_mean  area_mean  \\\n",
              "0    842302         M        17.99         10.38          122.80     1001.0   \n",
              "1    842517         M        20.57         17.77          132.90     1326.0   \n",
              "2  84300903         M        19.69         21.25          130.00     1203.0   \n",
              "3  84348301         M        11.42         20.38           77.58      386.1   \n",
              "4  84358402         M        20.29         14.34          135.10     1297.0   \n",
              "\n",
              "   smoothness_mean  compactness_mean  concavity_mean  concave points_mean  \\\n",
              "0          0.11840           0.27760          0.3001              0.14710   \n",
              "1          0.08474           0.07864          0.0869              0.07017   \n",
              "2          0.10960           0.15990          0.1974              0.12790   \n",
              "3          0.14250           0.28390          0.2414              0.10520   \n",
              "4          0.10030           0.13280          0.1980              0.10430   \n",
              "\n",
              "   ...  texture_worst  perimeter_worst  area_worst  smoothness_worst  \\\n",
              "0  ...          17.33           184.60      2019.0            0.1622   \n",
              "1  ...          23.41           158.80      1956.0            0.1238   \n",
              "2  ...          25.53           152.50      1709.0            0.1444   \n",
              "3  ...          26.50            98.87       567.7            0.2098   \n",
              "4  ...          16.67           152.20      1575.0            0.1374   \n",
              "\n",
              "   compactness_worst  concavity_worst  concave points_worst  symmetry_worst  \\\n",
              "0             0.6656           0.7119                0.2654          0.4601   \n",
              "1             0.1866           0.2416                0.1860          0.2750   \n",
              "2             0.4245           0.4504                0.2430          0.3613   \n",
              "3             0.8663           0.6869                0.2575          0.6638   \n",
              "4             0.2050           0.4000                0.1625          0.2364   \n",
              "\n",
              "   fractal_dimension_worst  Unnamed: 32  \n",
              "0                  0.11890          NaN  \n",
              "1                  0.08902          NaN  \n",
              "2                  0.08758          NaN  \n",
              "3                  0.17300          NaN  \n",
              "4                  0.07678          NaN  \n",
              "\n",
              "[5 rows x 33 columns]"
            ],
            "text/html": [
              "\n",
              "  <div id=\"df-45119bbd-fbf7-43f1-b44a-e99e59fde818\">\n",
              "    <div class=\"colab-df-container\">\n",
              "      <div>\n",
              "<style scoped>\n",
              "    .dataframe tbody tr th:only-of-type {\n",
              "        vertical-align: middle;\n",
              "    }\n",
              "\n",
              "    .dataframe tbody tr th {\n",
              "        vertical-align: top;\n",
              "    }\n",
              "\n",
              "    .dataframe thead th {\n",
              "        text-align: right;\n",
              "    }\n",
              "</style>\n",
              "<table border=\"1\" class=\"dataframe\">\n",
              "  <thead>\n",
              "    <tr style=\"text-align: right;\">\n",
              "      <th></th>\n",
              "      <th>id</th>\n",
              "      <th>diagnosis</th>\n",
              "      <th>radius_mean</th>\n",
              "      <th>texture_mean</th>\n",
              "      <th>perimeter_mean</th>\n",
              "      <th>area_mean</th>\n",
              "      <th>smoothness_mean</th>\n",
              "      <th>compactness_mean</th>\n",
              "      <th>concavity_mean</th>\n",
              "      <th>concave points_mean</th>\n",
              "      <th>...</th>\n",
              "      <th>texture_worst</th>\n",
              "      <th>perimeter_worst</th>\n",
              "      <th>area_worst</th>\n",
              "      <th>smoothness_worst</th>\n",
              "      <th>compactness_worst</th>\n",
              "      <th>concavity_worst</th>\n",
              "      <th>concave points_worst</th>\n",
              "      <th>symmetry_worst</th>\n",
              "      <th>fractal_dimension_worst</th>\n",
              "      <th>Unnamed: 32</th>\n",
              "    </tr>\n",
              "  </thead>\n",
              "  <tbody>\n",
              "    <tr>\n",
              "      <th>0</th>\n",
              "      <td>842302</td>\n",
              "      <td>M</td>\n",
              "      <td>17.99</td>\n",
              "      <td>10.38</td>\n",
              "      <td>122.80</td>\n",
              "      <td>1001.0</td>\n",
              "      <td>0.11840</td>\n",
              "      <td>0.27760</td>\n",
              "      <td>0.3001</td>\n",
              "      <td>0.14710</td>\n",
              "      <td>...</td>\n",
              "      <td>17.33</td>\n",
              "      <td>184.60</td>\n",
              "      <td>2019.0</td>\n",
              "      <td>0.1622</td>\n",
              "      <td>0.6656</td>\n",
              "      <td>0.7119</td>\n",
              "      <td>0.2654</td>\n",
              "      <td>0.4601</td>\n",
              "      <td>0.11890</td>\n",
              "      <td>NaN</td>\n",
              "    </tr>\n",
              "    <tr>\n",
              "      <th>1</th>\n",
              "      <td>842517</td>\n",
              "      <td>M</td>\n",
              "      <td>20.57</td>\n",
              "      <td>17.77</td>\n",
              "      <td>132.90</td>\n",
              "      <td>1326.0</td>\n",
              "      <td>0.08474</td>\n",
              "      <td>0.07864</td>\n",
              "      <td>0.0869</td>\n",
              "      <td>0.07017</td>\n",
              "      <td>...</td>\n",
              "      <td>23.41</td>\n",
              "      <td>158.80</td>\n",
              "      <td>1956.0</td>\n",
              "      <td>0.1238</td>\n",
              "      <td>0.1866</td>\n",
              "      <td>0.2416</td>\n",
              "      <td>0.1860</td>\n",
              "      <td>0.2750</td>\n",
              "      <td>0.08902</td>\n",
              "      <td>NaN</td>\n",
              "    </tr>\n",
              "    <tr>\n",
              "      <th>2</th>\n",
              "      <td>84300903</td>\n",
              "      <td>M</td>\n",
              "      <td>19.69</td>\n",
              "      <td>21.25</td>\n",
              "      <td>130.00</td>\n",
              "      <td>1203.0</td>\n",
              "      <td>0.10960</td>\n",
              "      <td>0.15990</td>\n",
              "      <td>0.1974</td>\n",
              "      <td>0.12790</td>\n",
              "      <td>...</td>\n",
              "      <td>25.53</td>\n",
              "      <td>152.50</td>\n",
              "      <td>1709.0</td>\n",
              "      <td>0.1444</td>\n",
              "      <td>0.4245</td>\n",
              "      <td>0.4504</td>\n",
              "      <td>0.2430</td>\n",
              "      <td>0.3613</td>\n",
              "      <td>0.08758</td>\n",
              "      <td>NaN</td>\n",
              "    </tr>\n",
              "    <tr>\n",
              "      <th>3</th>\n",
              "      <td>84348301</td>\n",
              "      <td>M</td>\n",
              "      <td>11.42</td>\n",
              "      <td>20.38</td>\n",
              "      <td>77.58</td>\n",
              "      <td>386.1</td>\n",
              "      <td>0.14250</td>\n",
              "      <td>0.28390</td>\n",
              "      <td>0.2414</td>\n",
              "      <td>0.10520</td>\n",
              "      <td>...</td>\n",
              "      <td>26.50</td>\n",
              "      <td>98.87</td>\n",
              "      <td>567.7</td>\n",
              "      <td>0.2098</td>\n",
              "      <td>0.8663</td>\n",
              "      <td>0.6869</td>\n",
              "      <td>0.2575</td>\n",
              "      <td>0.6638</td>\n",
              "      <td>0.17300</td>\n",
              "      <td>NaN</td>\n",
              "    </tr>\n",
              "    <tr>\n",
              "      <th>4</th>\n",
              "      <td>84358402</td>\n",
              "      <td>M</td>\n",
              "      <td>20.29</td>\n",
              "      <td>14.34</td>\n",
              "      <td>135.10</td>\n",
              "      <td>1297.0</td>\n",
              "      <td>0.10030</td>\n",
              "      <td>0.13280</td>\n",
              "      <td>0.1980</td>\n",
              "      <td>0.10430</td>\n",
              "      <td>...</td>\n",
              "      <td>16.67</td>\n",
              "      <td>152.20</td>\n",
              "      <td>1575.0</td>\n",
              "      <td>0.1374</td>\n",
              "      <td>0.2050</td>\n",
              "      <td>0.4000</td>\n",
              "      <td>0.1625</td>\n",
              "      <td>0.2364</td>\n",
              "      <td>0.07678</td>\n",
              "      <td>NaN</td>\n",
              "    </tr>\n",
              "  </tbody>\n",
              "</table>\n",
              "<p>5 rows × 33 columns</p>\n",
              "</div>\n",
              "      <button class=\"colab-df-convert\" onclick=\"convertToInteractive('df-45119bbd-fbf7-43f1-b44a-e99e59fde818')\"\n",
              "              title=\"Convert this dataframe to an interactive table.\"\n",
              "              style=\"display:none;\">\n",
              "        \n",
              "  <svg xmlns=\"http://www.w3.org/2000/svg\" height=\"24px\"viewBox=\"0 0 24 24\"\n",
              "       width=\"24px\">\n",
              "    <path d=\"M0 0h24v24H0V0z\" fill=\"none\"/>\n",
              "    <path d=\"M18.56 5.44l.94 2.06.94-2.06 2.06-.94-2.06-.94-.94-2.06-.94 2.06-2.06.94zm-11 1L8.5 8.5l.94-2.06 2.06-.94-2.06-.94L8.5 2.5l-.94 2.06-2.06.94zm10 10l.94 2.06.94-2.06 2.06-.94-2.06-.94-.94-2.06-.94 2.06-2.06.94z\"/><path d=\"M17.41 7.96l-1.37-1.37c-.4-.4-.92-.59-1.43-.59-.52 0-1.04.2-1.43.59L10.3 9.45l-7.72 7.72c-.78.78-.78 2.05 0 2.83L4 21.41c.39.39.9.59 1.41.59.51 0 1.02-.2 1.41-.59l7.78-7.78 2.81-2.81c.8-.78.8-2.07 0-2.86zM5.41 20L4 18.59l7.72-7.72 1.47 1.35L5.41 20z\"/>\n",
              "  </svg>\n",
              "      </button>\n",
              "      \n",
              "  <style>\n",
              "    .colab-df-container {\n",
              "      display:flex;\n",
              "      flex-wrap:wrap;\n",
              "      gap: 12px;\n",
              "    }\n",
              "\n",
              "    .colab-df-convert {\n",
              "      background-color: #E8F0FE;\n",
              "      border: none;\n",
              "      border-radius: 50%;\n",
              "      cursor: pointer;\n",
              "      display: none;\n",
              "      fill: #1967D2;\n",
              "      height: 32px;\n",
              "      padding: 0 0 0 0;\n",
              "      width: 32px;\n",
              "    }\n",
              "\n",
              "    .colab-df-convert:hover {\n",
              "      background-color: #E2EBFA;\n",
              "      box-shadow: 0px 1px 2px rgba(60, 64, 67, 0.3), 0px 1px 3px 1px rgba(60, 64, 67, 0.15);\n",
              "      fill: #174EA6;\n",
              "    }\n",
              "\n",
              "    [theme=dark] .colab-df-convert {\n",
              "      background-color: #3B4455;\n",
              "      fill: #D2E3FC;\n",
              "    }\n",
              "\n",
              "    [theme=dark] .colab-df-convert:hover {\n",
              "      background-color: #434B5C;\n",
              "      box-shadow: 0px 1px 3px 1px rgba(0, 0, 0, 0.15);\n",
              "      filter: drop-shadow(0px 1px 2px rgba(0, 0, 0, 0.3));\n",
              "      fill: #FFFFFF;\n",
              "    }\n",
              "  </style>\n",
              "\n",
              "      <script>\n",
              "        const buttonEl =\n",
              "          document.querySelector('#df-45119bbd-fbf7-43f1-b44a-e99e59fde818 button.colab-df-convert');\n",
              "        buttonEl.style.display =\n",
              "          google.colab.kernel.accessAllowed ? 'block' : 'none';\n",
              "\n",
              "        async function convertToInteractive(key) {\n",
              "          const element = document.querySelector('#df-45119bbd-fbf7-43f1-b44a-e99e59fde818');\n",
              "          const dataTable =\n",
              "            await google.colab.kernel.invokeFunction('convertToInteractive',\n",
              "                                                     [key], {});\n",
              "          if (!dataTable) return;\n",
              "\n",
              "          const docLinkHtml = 'Like what you see? Visit the ' +\n",
              "            '<a target=\"_blank\" href=https://colab.research.google.com/notebooks/data_table.ipynb>data table notebook</a>'\n",
              "            + ' to learn more about interactive tables.';\n",
              "          element.innerHTML = '';\n",
              "          dataTable['output_type'] = 'display_data';\n",
              "          await google.colab.output.renderOutput(dataTable, element);\n",
              "          const docLink = document.createElement('div');\n",
              "          docLink.innerHTML = docLinkHtml;\n",
              "          element.appendChild(docLink);\n",
              "        }\n",
              "      </script>\n",
              "    </div>\n",
              "  </div>\n",
              "  "
            ]
          },
          "metadata": {},
          "execution_count": 102
        }
      ],
      "source": [
        "# df = pd.read_csv(\"data.csv\")\n",
        "df = pd.read_csv('https://raw.githubusercontent.com/pypluf/MFVAMA/main/breast_cancer.csv')\n",
        "df.head(5)"
      ]
    },
    {
      "cell_type": "code",
      "execution_count": 103,
      "id": "d3365def",
      "metadata": {
        "colab": {
          "base_uri": "https://localhost:8080/",
          "height": 317
        },
        "id": "d3365def",
        "outputId": "4eddd789-36d9-4ef3-dd6f-7eaf54866f2a"
      },
      "outputs": [
        {
          "output_type": "execute_result",
          "data": {
            "text/plain": [
              "   diagnosis  radius_mean  texture_mean  perimeter_mean  area_mean  \\\n",
              "0          1        17.99         10.38          122.80     1001.0   \n",
              "1          1        20.57         17.77          132.90     1326.0   \n",
              "2          1        19.69         21.25          130.00     1203.0   \n",
              "3          1        11.42         20.38           77.58      386.1   \n",
              "4          1        20.29         14.34          135.10     1297.0   \n",
              "\n",
              "   smoothness_mean  compactness_mean  concavity_mean  concave points_mean  \\\n",
              "0          0.11840           0.27760          0.3001              0.14710   \n",
              "1          0.08474           0.07864          0.0869              0.07017   \n",
              "2          0.10960           0.15990          0.1974              0.12790   \n",
              "3          0.14250           0.28390          0.2414              0.10520   \n",
              "4          0.10030           0.13280          0.1980              0.10430   \n",
              "\n",
              "   symmetry_mean  ...  radius_worst  texture_worst  perimeter_worst  \\\n",
              "0         0.2419  ...         25.38          17.33           184.60   \n",
              "1         0.1812  ...         24.99          23.41           158.80   \n",
              "2         0.2069  ...         23.57          25.53           152.50   \n",
              "3         0.2597  ...         14.91          26.50            98.87   \n",
              "4         0.1809  ...         22.54          16.67           152.20   \n",
              "\n",
              "   area_worst  smoothness_worst  compactness_worst  concavity_worst  \\\n",
              "0      2019.0            0.1622             0.6656           0.7119   \n",
              "1      1956.0            0.1238             0.1866           0.2416   \n",
              "2      1709.0            0.1444             0.4245           0.4504   \n",
              "3       567.7            0.2098             0.8663           0.6869   \n",
              "4      1575.0            0.1374             0.2050           0.4000   \n",
              "\n",
              "   concave points_worst  symmetry_worst  fractal_dimension_worst  \n",
              "0                0.2654          0.4601                  0.11890  \n",
              "1                0.1860          0.2750                  0.08902  \n",
              "2                0.2430          0.3613                  0.08758  \n",
              "3                0.2575          0.6638                  0.17300  \n",
              "4                0.1625          0.2364                  0.07678  \n",
              "\n",
              "[5 rows x 31 columns]"
            ],
            "text/html": [
              "\n",
              "  <div id=\"df-3e721b03-4832-4b36-acf0-fa9d4d14e260\">\n",
              "    <div class=\"colab-df-container\">\n",
              "      <div>\n",
              "<style scoped>\n",
              "    .dataframe tbody tr th:only-of-type {\n",
              "        vertical-align: middle;\n",
              "    }\n",
              "\n",
              "    .dataframe tbody tr th {\n",
              "        vertical-align: top;\n",
              "    }\n",
              "\n",
              "    .dataframe thead th {\n",
              "        text-align: right;\n",
              "    }\n",
              "</style>\n",
              "<table border=\"1\" class=\"dataframe\">\n",
              "  <thead>\n",
              "    <tr style=\"text-align: right;\">\n",
              "      <th></th>\n",
              "      <th>diagnosis</th>\n",
              "      <th>radius_mean</th>\n",
              "      <th>texture_mean</th>\n",
              "      <th>perimeter_mean</th>\n",
              "      <th>area_mean</th>\n",
              "      <th>smoothness_mean</th>\n",
              "      <th>compactness_mean</th>\n",
              "      <th>concavity_mean</th>\n",
              "      <th>concave points_mean</th>\n",
              "      <th>symmetry_mean</th>\n",
              "      <th>...</th>\n",
              "      <th>radius_worst</th>\n",
              "      <th>texture_worst</th>\n",
              "      <th>perimeter_worst</th>\n",
              "      <th>area_worst</th>\n",
              "      <th>smoothness_worst</th>\n",
              "      <th>compactness_worst</th>\n",
              "      <th>concavity_worst</th>\n",
              "      <th>concave points_worst</th>\n",
              "      <th>symmetry_worst</th>\n",
              "      <th>fractal_dimension_worst</th>\n",
              "    </tr>\n",
              "  </thead>\n",
              "  <tbody>\n",
              "    <tr>\n",
              "      <th>0</th>\n",
              "      <td>1</td>\n",
              "      <td>17.99</td>\n",
              "      <td>10.38</td>\n",
              "      <td>122.80</td>\n",
              "      <td>1001.0</td>\n",
              "      <td>0.11840</td>\n",
              "      <td>0.27760</td>\n",
              "      <td>0.3001</td>\n",
              "      <td>0.14710</td>\n",
              "      <td>0.2419</td>\n",
              "      <td>...</td>\n",
              "      <td>25.38</td>\n",
              "      <td>17.33</td>\n",
              "      <td>184.60</td>\n",
              "      <td>2019.0</td>\n",
              "      <td>0.1622</td>\n",
              "      <td>0.6656</td>\n",
              "      <td>0.7119</td>\n",
              "      <td>0.2654</td>\n",
              "      <td>0.4601</td>\n",
              "      <td>0.11890</td>\n",
              "    </tr>\n",
              "    <tr>\n",
              "      <th>1</th>\n",
              "      <td>1</td>\n",
              "      <td>20.57</td>\n",
              "      <td>17.77</td>\n",
              "      <td>132.90</td>\n",
              "      <td>1326.0</td>\n",
              "      <td>0.08474</td>\n",
              "      <td>0.07864</td>\n",
              "      <td>0.0869</td>\n",
              "      <td>0.07017</td>\n",
              "      <td>0.1812</td>\n",
              "      <td>...</td>\n",
              "      <td>24.99</td>\n",
              "      <td>23.41</td>\n",
              "      <td>158.80</td>\n",
              "      <td>1956.0</td>\n",
              "      <td>0.1238</td>\n",
              "      <td>0.1866</td>\n",
              "      <td>0.2416</td>\n",
              "      <td>0.1860</td>\n",
              "      <td>0.2750</td>\n",
              "      <td>0.08902</td>\n",
              "    </tr>\n",
              "    <tr>\n",
              "      <th>2</th>\n",
              "      <td>1</td>\n",
              "      <td>19.69</td>\n",
              "      <td>21.25</td>\n",
              "      <td>130.00</td>\n",
              "      <td>1203.0</td>\n",
              "      <td>0.10960</td>\n",
              "      <td>0.15990</td>\n",
              "      <td>0.1974</td>\n",
              "      <td>0.12790</td>\n",
              "      <td>0.2069</td>\n",
              "      <td>...</td>\n",
              "      <td>23.57</td>\n",
              "      <td>25.53</td>\n",
              "      <td>152.50</td>\n",
              "      <td>1709.0</td>\n",
              "      <td>0.1444</td>\n",
              "      <td>0.4245</td>\n",
              "      <td>0.4504</td>\n",
              "      <td>0.2430</td>\n",
              "      <td>0.3613</td>\n",
              "      <td>0.08758</td>\n",
              "    </tr>\n",
              "    <tr>\n",
              "      <th>3</th>\n",
              "      <td>1</td>\n",
              "      <td>11.42</td>\n",
              "      <td>20.38</td>\n",
              "      <td>77.58</td>\n",
              "      <td>386.1</td>\n",
              "      <td>0.14250</td>\n",
              "      <td>0.28390</td>\n",
              "      <td>0.2414</td>\n",
              "      <td>0.10520</td>\n",
              "      <td>0.2597</td>\n",
              "      <td>...</td>\n",
              "      <td>14.91</td>\n",
              "      <td>26.50</td>\n",
              "      <td>98.87</td>\n",
              "      <td>567.7</td>\n",
              "      <td>0.2098</td>\n",
              "      <td>0.8663</td>\n",
              "      <td>0.6869</td>\n",
              "      <td>0.2575</td>\n",
              "      <td>0.6638</td>\n",
              "      <td>0.17300</td>\n",
              "    </tr>\n",
              "    <tr>\n",
              "      <th>4</th>\n",
              "      <td>1</td>\n",
              "      <td>20.29</td>\n",
              "      <td>14.34</td>\n",
              "      <td>135.10</td>\n",
              "      <td>1297.0</td>\n",
              "      <td>0.10030</td>\n",
              "      <td>0.13280</td>\n",
              "      <td>0.1980</td>\n",
              "      <td>0.10430</td>\n",
              "      <td>0.1809</td>\n",
              "      <td>...</td>\n",
              "      <td>22.54</td>\n",
              "      <td>16.67</td>\n",
              "      <td>152.20</td>\n",
              "      <td>1575.0</td>\n",
              "      <td>0.1374</td>\n",
              "      <td>0.2050</td>\n",
              "      <td>0.4000</td>\n",
              "      <td>0.1625</td>\n",
              "      <td>0.2364</td>\n",
              "      <td>0.07678</td>\n",
              "    </tr>\n",
              "  </tbody>\n",
              "</table>\n",
              "<p>5 rows × 31 columns</p>\n",
              "</div>\n",
              "      <button class=\"colab-df-convert\" onclick=\"convertToInteractive('df-3e721b03-4832-4b36-acf0-fa9d4d14e260')\"\n",
              "              title=\"Convert this dataframe to an interactive table.\"\n",
              "              style=\"display:none;\">\n",
              "        \n",
              "  <svg xmlns=\"http://www.w3.org/2000/svg\" height=\"24px\"viewBox=\"0 0 24 24\"\n",
              "       width=\"24px\">\n",
              "    <path d=\"M0 0h24v24H0V0z\" fill=\"none\"/>\n",
              "    <path d=\"M18.56 5.44l.94 2.06.94-2.06 2.06-.94-2.06-.94-.94-2.06-.94 2.06-2.06.94zm-11 1L8.5 8.5l.94-2.06 2.06-.94-2.06-.94L8.5 2.5l-.94 2.06-2.06.94zm10 10l.94 2.06.94-2.06 2.06-.94-2.06-.94-.94-2.06-.94 2.06-2.06.94z\"/><path d=\"M17.41 7.96l-1.37-1.37c-.4-.4-.92-.59-1.43-.59-.52 0-1.04.2-1.43.59L10.3 9.45l-7.72 7.72c-.78.78-.78 2.05 0 2.83L4 21.41c.39.39.9.59 1.41.59.51 0 1.02-.2 1.41-.59l7.78-7.78 2.81-2.81c.8-.78.8-2.07 0-2.86zM5.41 20L4 18.59l7.72-7.72 1.47 1.35L5.41 20z\"/>\n",
              "  </svg>\n",
              "      </button>\n",
              "      \n",
              "  <style>\n",
              "    .colab-df-container {\n",
              "      display:flex;\n",
              "      flex-wrap:wrap;\n",
              "      gap: 12px;\n",
              "    }\n",
              "\n",
              "    .colab-df-convert {\n",
              "      background-color: #E8F0FE;\n",
              "      border: none;\n",
              "      border-radius: 50%;\n",
              "      cursor: pointer;\n",
              "      display: none;\n",
              "      fill: #1967D2;\n",
              "      height: 32px;\n",
              "      padding: 0 0 0 0;\n",
              "      width: 32px;\n",
              "    }\n",
              "\n",
              "    .colab-df-convert:hover {\n",
              "      background-color: #E2EBFA;\n",
              "      box-shadow: 0px 1px 2px rgba(60, 64, 67, 0.3), 0px 1px 3px 1px rgba(60, 64, 67, 0.15);\n",
              "      fill: #174EA6;\n",
              "    }\n",
              "\n",
              "    [theme=dark] .colab-df-convert {\n",
              "      background-color: #3B4455;\n",
              "      fill: #D2E3FC;\n",
              "    }\n",
              "\n",
              "    [theme=dark] .colab-df-convert:hover {\n",
              "      background-color: #434B5C;\n",
              "      box-shadow: 0px 1px 3px 1px rgba(0, 0, 0, 0.15);\n",
              "      filter: drop-shadow(0px 1px 2px rgba(0, 0, 0, 0.3));\n",
              "      fill: #FFFFFF;\n",
              "    }\n",
              "  </style>\n",
              "\n",
              "      <script>\n",
              "        const buttonEl =\n",
              "          document.querySelector('#df-3e721b03-4832-4b36-acf0-fa9d4d14e260 button.colab-df-convert');\n",
              "        buttonEl.style.display =\n",
              "          google.colab.kernel.accessAllowed ? 'block' : 'none';\n",
              "\n",
              "        async function convertToInteractive(key) {\n",
              "          const element = document.querySelector('#df-3e721b03-4832-4b36-acf0-fa9d4d14e260');\n",
              "          const dataTable =\n",
              "            await google.colab.kernel.invokeFunction('convertToInteractive',\n",
              "                                                     [key], {});\n",
              "          if (!dataTable) return;\n",
              "\n",
              "          const docLinkHtml = 'Like what you see? Visit the ' +\n",
              "            '<a target=\"_blank\" href=https://colab.research.google.com/notebooks/data_table.ipynb>data table notebook</a>'\n",
              "            + ' to learn more about interactive tables.';\n",
              "          element.innerHTML = '';\n",
              "          dataTable['output_type'] = 'display_data';\n",
              "          await google.colab.output.renderOutput(dataTable, element);\n",
              "          const docLink = document.createElement('div');\n",
              "          docLink.innerHTML = docLinkHtml;\n",
              "          element.appendChild(docLink);\n",
              "        }\n",
              "      </script>\n",
              "    </div>\n",
              "  </div>\n",
              "  "
            ]
          },
          "metadata": {},
          "execution_count": 103
        }
      ],
      "source": [
        "df['diagnosis'] = df['diagnosis'].map({'B': -1, 'M': 1})\n",
        "df.drop(['id', 'Unnamed: 32'], axis = 1, inplace = True)\n",
        "df.head()"
      ]
    },
    {
      "cell_type": "code",
      "source": [
        "df.info()"
      ],
      "metadata": {
        "colab": {
          "base_uri": "https://localhost:8080/"
        },
        "id": "_k3uvKkqyZT3",
        "outputId": "da21d0d1-26b3-4366-8cd8-e6bf95dc9474"
      },
      "id": "_k3uvKkqyZT3",
      "execution_count": 104,
      "outputs": [
        {
          "output_type": "stream",
          "name": "stdout",
          "text": [
            "<class 'pandas.core.frame.DataFrame'>\n",
            "RangeIndex: 569 entries, 0 to 568\n",
            "Data columns (total 31 columns):\n",
            " #   Column                   Non-Null Count  Dtype  \n",
            "---  ------                   --------------  -----  \n",
            " 0   diagnosis                569 non-null    int64  \n",
            " 1   radius_mean              569 non-null    float64\n",
            " 2   texture_mean             569 non-null    float64\n",
            " 3   perimeter_mean           569 non-null    float64\n",
            " 4   area_mean                569 non-null    float64\n",
            " 5   smoothness_mean          569 non-null    float64\n",
            " 6   compactness_mean         569 non-null    float64\n",
            " 7   concavity_mean           569 non-null    float64\n",
            " 8   concave points_mean      569 non-null    float64\n",
            " 9   symmetry_mean            569 non-null    float64\n",
            " 10  fractal_dimension_mean   569 non-null    float64\n",
            " 11  radius_se                569 non-null    float64\n",
            " 12  texture_se               569 non-null    float64\n",
            " 13  perimeter_se             569 non-null    float64\n",
            " 14  area_se                  569 non-null    float64\n",
            " 15  smoothness_se            569 non-null    float64\n",
            " 16  compactness_se           569 non-null    float64\n",
            " 17  concavity_se             569 non-null    float64\n",
            " 18  concave points_se        569 non-null    float64\n",
            " 19  symmetry_se              569 non-null    float64\n",
            " 20  fractal_dimension_se     569 non-null    float64\n",
            " 21  radius_worst             569 non-null    float64\n",
            " 22  texture_worst            569 non-null    float64\n",
            " 23  perimeter_worst          569 non-null    float64\n",
            " 24  area_worst               569 non-null    float64\n",
            " 25  smoothness_worst         569 non-null    float64\n",
            " 26  compactness_worst        569 non-null    float64\n",
            " 27  concavity_worst          569 non-null    float64\n",
            " 28  concave points_worst     569 non-null    float64\n",
            " 29  symmetry_worst           569 non-null    float64\n",
            " 30  fractal_dimension_worst  569 non-null    float64\n",
            "dtypes: float64(30), int64(1)\n",
            "memory usage: 137.9 KB\n"
          ]
        }
      ]
    },
    {
      "cell_type": "code",
      "source": [
        "df.isnull().sum()"
      ],
      "metadata": {
        "colab": {
          "base_uri": "https://localhost:8080/"
        },
        "id": "cFXD3P1Ow0Lx",
        "outputId": "ec7df637-2352-41f1-b133-a95321681237"
      },
      "id": "cFXD3P1Ow0Lx",
      "execution_count": 105,
      "outputs": [
        {
          "output_type": "execute_result",
          "data": {
            "text/plain": [
              "diagnosis                  0\n",
              "radius_mean                0\n",
              "texture_mean               0\n",
              "perimeter_mean             0\n",
              "area_mean                  0\n",
              "smoothness_mean            0\n",
              "compactness_mean           0\n",
              "concavity_mean             0\n",
              "concave points_mean        0\n",
              "symmetry_mean              0\n",
              "fractal_dimension_mean     0\n",
              "radius_se                  0\n",
              "texture_se                 0\n",
              "perimeter_se               0\n",
              "area_se                    0\n",
              "smoothness_se              0\n",
              "compactness_se             0\n",
              "concavity_se               0\n",
              "concave points_se          0\n",
              "symmetry_se                0\n",
              "fractal_dimension_se       0\n",
              "radius_worst               0\n",
              "texture_worst              0\n",
              "perimeter_worst            0\n",
              "area_worst                 0\n",
              "smoothness_worst           0\n",
              "compactness_worst          0\n",
              "concavity_worst            0\n",
              "concave points_worst       0\n",
              "symmetry_worst             0\n",
              "fractal_dimension_worst    0\n",
              "dtype: int64"
            ]
          },
          "metadata": {},
          "execution_count": 105
        }
      ]
    },
    {
      "cell_type": "code",
      "execution_count": 106,
      "id": "2ad61cb5",
      "metadata": {
        "id": "2ad61cb5"
      },
      "outputs": [],
      "source": [
        "# Chia ra tập training và tập testing\n",
        "#X = df.drop(['diagnosis'], axis=1)\n",
        "#  X = df[['radius_mean','texture_mean','perimeter_mean','area_mean','smoothness_mean','compactness_mean','concavity_mean','concave points_mean','symmetry_mean','fractal_dimension_mean']]\n",
        "X = df[['radius_mean','texture_mean','perimeter_mean','area_mean','smoothness_mean','compactness_mean','concavity_mean','concave points_mean','symmetry_mean','fractal_dimension_mean',\n",
        "        'radius_se','texture_se','perimeter_se','area_se','smoothness_se','compactness_se','concavity_se','concave points_se','symmetry_se','fractal_dimension_se',\n",
        "        'radius_worst','texture_worst','perimeter_worst','area_worst','smoothness_worst','compactness_worst','concavity_worst','concave points_worst','symmetry_worst','fractal_dimension_worst']]\n",
        "y = df['diagnosis']\n",
        "\n",
        "from sklearn.model_selection import train_test_split\n",
        "\n",
        "X_train, X_test, y_train, y_test = train_test_split(X, y, test_size = 0.3, random_state = 42)"
      ]
    },
    {
      "cell_type": "code",
      "execution_count": 107,
      "id": "eafff1bf",
      "metadata": {
        "id": "eafff1bf"
      },
      "outputs": [],
      "source": [
        "from sklearn.preprocessing import StandardScaler\n",
        "# Chuẩn hóa dữ liệu\n",
        "sc = StandardScaler()\n",
        "\n",
        "X_std = sc.fit_transform(X_train)\n",
        "X_test = sc.fit_transform(X_test)"
      ]
    },
    {
      "cell_type": "code",
      "source": [
        "X_train.shape"
      ],
      "metadata": {
        "colab": {
          "base_uri": "https://localhost:8080/"
        },
        "id": "Op1niErraeV0",
        "outputId": "5494fa16-a730-4174-a57a-93f95cf0af4d"
      },
      "id": "Op1niErraeV0",
      "execution_count": 108,
      "outputs": [
        {
          "output_type": "execute_result",
          "data": {
            "text/plain": [
              "(398, 30)"
            ]
          },
          "metadata": {},
          "execution_count": 108
        }
      ]
    },
    {
      "cell_type": "code",
      "execution_count": 109,
      "id": "fa93a444",
      "metadata": {
        "id": "fa93a444",
        "colab": {
          "base_uri": "https://localhost:8080/"
        },
        "outputId": "a9225f2a-f320-4a27-fe4c-a47c0b927f87"
      },
      "outputs": [
        {
          "output_type": "execute_result",
          "data": {
            "text/plain": [
              "<PandasArray>\n",
              "[array([[-0.12348985, -0.29680142, -0.17050713, ..., -0.84082156,\n",
              "        -0.8563616 , -0.76574773],\n",
              "       [-0.22826757, -0.65795149, -0.25377521, ..., -0.37706655,\n",
              "        -1.3415819 , -0.41480748],\n",
              "       [ 0.14553402, -1.23056444,  0.24583328, ..., -0.04762652,\n",
              "        -0.08997059,  0.4882635 ],\n",
              "       ...,\n",
              "       [ 0.03226081, -0.55578404, -0.08064356, ..., -1.26179013,\n",
              "        -0.6828391 , -1.27672587],\n",
              "       [-0.05552593,  0.10949242, -0.04684166, ...,  1.07924018,\n",
              "         0.4755842 ,  1.25530227],\n",
              "       [-0.56525537,  0.32333128, -0.619825  , ..., -0.61952313,\n",
              "        -0.30366032, -0.84348042]])]\n",
              "Length: 1, dtype: object"
            ]
          },
          "metadata": {},
          "execution_count": 109
        }
      ],
      "source": [
        "pd.array([X_std])"
      ]
    },
    {
      "cell_type": "markdown",
      "source": [
        "# PCA"
      ],
      "metadata": {
        "id": "tdzqfLCLtmMa"
      },
      "id": "tdzqfLCLtmMa"
    },
    {
      "cell_type": "code",
      "execution_count": 110,
      "id": "8a7f8d14",
      "metadata": {
        "id": "8a7f8d14",
        "colab": {
          "base_uri": "https://localhost:8080/"
        },
        "outputId": "dd4269a6-1dab-4726-b7ef-d071f048c34c"
      },
      "outputs": [
        {
          "output_type": "stream",
          "name": "stdout",
          "text": [
            "Duration: 0.009842395782470703 seconds\n"
          ]
        }
      ],
      "source": [
        "from sklearn.decomposition import PCA\n",
        "import time\n",
        "\n",
        "start = time.time()\n",
        "\n",
        "pca = PCA(n_components = 3)\n",
        "\n",
        "X_train_pca = pca.fit_transform(X_std)\n",
        "X_test_pca = pca.fit_transform(X_test)\n",
        "print('Duration: {} seconds'.format(time.time() - start))"
      ]
    },
    {
      "cell_type": "code",
      "execution_count": 111,
      "id": "44b24bfc",
      "metadata": {
        "colab": {
          "base_uri": "https://localhost:8080/",
          "height": 497
        },
        "id": "44b24bfc",
        "outputId": "27cb75ea-cff9-48e9-cbe6-38efd2766497"
      },
      "outputs": [
        {
          "output_type": "display_data",
          "data": {
            "text/plain": [
              "<Figure size 720x576 with 1 Axes>"
            ],
            "image/png": "[encoded data removed]"
          },
          "metadata": {}
        }
      ],
      "source": [
        "colors = ['r', 'b', 'g']\n",
        "markers = ['s', 'x', 'o']\n",
        "\n",
        "fig, ax = plt.subplots(figsize = (10, 8))\n",
        "\n",
        "for l, c, m in zip(np.unique(y_train), colors, markers):\n",
        "    ax.scatter(X_train_pca[y_train == l, 0], X_train_pca[y_train == l, 1], c = c, label = l, marker = m)\n",
        "ax.set(xlabel = 'PC 1', ylabel = 'PC 2')\n",
        "plt.legend(loc='lower left')\n",
        "plt.show()"
      ]
    },
    {
      "cell_type": "code",
      "execution_count": 112,
      "id": "2521d64a",
      "metadata": {
        "colab": {
          "base_uri": "https://localhost:8080/"
        },
        "id": "2521d64a",
        "outputId": "1f6f17f3-ef42-4545-e0da-880235f676df"
      },
      "outputs": [
        {
          "output_type": "execute_result",
          "data": {
            "text/plain": [
              "array([0.47565014, 0.64859045, 0.73441453])"
            ]
          },
          "metadata": {},
          "execution_count": 112
        }
      ],
      "source": [
        "np.cumsum(pca.explained_variance_ratio_)"
      ]
    },
    {
      "cell_type": "markdown",
      "source": [
        "# LDA"
      ],
      "metadata": {
        "id": "3h-X2bgK5J65"
      },
      "id": "3h-X2bgK5J65"
    },
    {
      "cell_type": "code",
      "source": [
        "X_train_lda = np.array(X_std)\n",
        "X_test_lda = np.array(X_test)\n",
        "y_train_lda = np.array(y_train)\n",
        "y_test_lda = np.array(y_test)\n"
      ],
      "metadata": {
        "id": "6KQuwYcj5Yqc"
      },
      "id": "6KQuwYcj5Yqc",
      "execution_count": 113,
      "outputs": []
    },
    {
      "cell_type": "code",
      "source": [
        "X_train_lda.shape"
      ],
      "metadata": {
        "colab": {
          "base_uri": "https://localhost:8080/"
        },
        "id": "CIjv5jnAtl1S",
        "outputId": "a3f84eca-3d75-4a61-aed1-6ff473f4c0fe"
      },
      "id": "CIjv5jnAtl1S",
      "execution_count": 114,
      "outputs": [
        {
          "output_type": "execute_result",
          "data": {
            "text/plain": [
              "(398, 30)"
            ]
          },
          "metadata": {},
          "execution_count": 114
        }
      ]
    },
    {
      "cell_type": "code",
      "execution_count": 115,
      "id": "72d71d79",
      "metadata": {
        "id": "72d71d79",
        "colab": {
          "base_uri": "https://localhost:8080/"
        },
        "outputId": "db148dd0-8193-4b57-c51e-243ed7be994e"
      },
      "outputs": [
        {
          "output_type": "stream",
          "name": "stdout",
          "text": [
            "Duration: 0.025754928588867188 seconds\n"
          ]
        }
      ],
      "source": [
        "from sklearn.discriminant_analysis import LinearDiscriminantAnalysis as LDA\n",
        "import time\n",
        "\n",
        "start = time.time()\n",
        "\n",
        "lda = LDA(n_components = 1)\n",
        "X_train_lda = lda.fit(X_train_lda,y_train_lda).transform(X_train_lda)\n",
        "X_test_lda = lda.fit(X_test_lda,y_test_lda).transform(X_test_lda)\n",
        "print('Duration: {} seconds'.format(time.time() - start))"
      ]
    },
    {
      "cell_type": "code",
      "source": [
        "# colors = ['r', 'b', 'g']\n",
        "# markers = ['s', 'x', 'o']\n",
        "\n",
        "# fig, ax = plt.subplots(figsize = (10, 8))\n",
        "\n",
        "# for l, c, m in zip(np.unique(y_train), colors, markers):\n",
        "#     ax.scatter(X_train_lda[y_train == l, 0], X_train_lda[y_train == l, 1], c = c, label = l, marker = m)\n",
        "# ax.set(xlabel = 'PC 1', ylabel = 'PC 2')\n",
        "# plt.legend(loc='lower left')\n",
        "# plt.show()"
      ],
      "metadata": {
        "id": "s4-DrKUH8tmp"
      },
      "id": "s4-DrKUH8tmp",
      "execution_count": 116,
      "outputs": []
    },
    {
      "cell_type": "code",
      "execution_count": 117,
      "id": "59995d21",
      "metadata": {
        "id": "59995d21",
        "colab": {
          "base_uri": "https://localhost:8080/"
        },
        "outputId": "70d2c37f-dc6e-4b2c-fb48-d4bc4f7b2cfc"
      },
      "outputs": [
        {
          "output_type": "execute_result",
          "data": {
            "text/plain": [
              "(398, 1)"
            ]
          },
          "metadata": {},
          "execution_count": 117
        }
      ],
      "source": [
        "X_train_lda.shape"
      ]
    },
    {
      "cell_type": "markdown",
      "source": [
        "# Decision Tree - Random Forest"
      ],
      "metadata": {
        "id": "SFzqQkYGtudb"
      },
      "id": "SFzqQkYGtudb"
    },
    {
      "cell_type": "code",
      "source": [
        "from sklearn.ensemble import RandomForestClassifier\n",
        "\n",
        "import time\n",
        "\n",
        "start = time.time()\n",
        "#Create a Gaussian Classifier\n",
        "clf=RandomForestClassifier(n_estimators=50, criterion='entropy', max_depth=4)\n",
        "\n",
        "#Train the model using the training sets y_pred=clf.predict(X_test)\n",
        "clf.fit(X_train,y_train)\n",
        "\n",
        "# prediction on test set\n",
        "y_pred_rf=clf.predict(X_test)\n",
        "\n",
        "#Import scikit-learn metrics module for accuracy calculation\n",
        "from sklearn import metrics\n",
        "# Model Accuracy, how often is the classifier correct?\n",
        "print(\"Number of mislabeled points out of a total %d points : %d\"\n",
        "      % (X_test.shape[0], (y_test != y_pred_rf).sum()))\n",
        "print(\"Accuracy:\",metrics.accuracy_score(y_test, y_pred_rf))\n",
        "print(\"F1 Score:\",metrics.f1_score(y_test, y_pred_rf))\n",
        "time_rf = time.time() - start\n",
        "print('Duration: {} seconds'.format(time.time() - start))\n",
        "\n",
        "confusion_matrix = metrics.confusion_matrix(y_test, y_pred_rf)\n",
        "\n",
        "cm_display = metrics.ConfusionMatrixDisplay(confusion_matrix = confusion_matrix,\n",
        "                                            display_labels = [False, True])\n",
        "cm_display.plot()\n",
        "plt.title(\"Random Forest\")\n",
        "plt.show()"
      ],
      "metadata": {
        "colab": {
          "base_uri": "https://localhost:8080/",
          "height": 480
        },
        "id": "2Ry7_OBSt4Rz",
        "outputId": "1e5a8484-03bb-4884-b4e2-5fe20d04484f"
      },
      "id": "2Ry7_OBSt4Rz",
      "execution_count": 118,
      "outputs": [
        {
          "output_type": "stream",
          "name": "stdout",
          "text": [
            "Number of mislabeled points out of a total 171 points : 63\n",
            "Accuracy: 0.631578947368421\n",
            "F1 Score: 0.0\n",
            "Duration: 0.15202713012695312 seconds\n"
          ]
        },
        {
          "output_type": "stream",
          "name": "stderr",
          "text": [
            "/usr/local/lib/python3.8/dist-packages/sklearn/base.py:450: UserWarning: X does not have valid feature names, but RandomForestClassifier was fitted with feature names\n",
            "  warnings.warn(\n"
          ]
        },
        {
          "output_type": "display_data",
          "data": {
            "text/plain": [
              "<Figure size 576x396 with 2 Axes>"
            ],
            "image/png": "[encoded data removed]"
          },
          "metadata": {}
        }
      ]
    },
    {
      "cell_type": "code",
      "execution_count": 119,
      "id": "bdf1b7a7",
      "metadata": {
        "colab": {
          "base_uri": "https://localhost:8080/",
          "height": 445
        },
        "id": "bdf1b7a7",
        "outputId": "c3d69ff4-f650-40f9-f3cc-ca1ab3c9d928"
      },
      "outputs": [
        {
          "output_type": "stream",
          "name": "stdout",
          "text": [
            "Number of mislabeled points out of a total 171 points : 13\n",
            "Accuracy: 0.9239766081871345\n",
            "F1 Score: 0.8976377952755906\n",
            "Duration: 0.3492560386657715 seconds\n"
          ]
        },
        {
          "output_type": "display_data",
          "data": {
            "text/plain": [
              "<Figure size 576x396 with 2 Axes>"
            ],
            "image/png": "[encoded data removed]"
          },
          "metadata": {}
        }
      ],
      "source": [
        "from sklearn.ensemble import RandomForestClassifier\n",
        "\n",
        "import time\n",
        "\n",
        "start = time.time()\n",
        "\n",
        "\n",
        "\n",
        "#Create a Random forest Classifier\n",
        "clf=RandomForestClassifier(n_estimators=50, criterion='entropy', max_depth=4)\n",
        "\n",
        "#Train the model using the training sets y_pred=clf.predict(X_test)\n",
        "clf.fit(X_train_pca,y_train)\n",
        "\n",
        "# prediction on test set\n",
        "y_pred_rfpca=clf.predict(X_test_pca)\n",
        "\n",
        "#Import scikit-learn metrics module for accuracy calculation\n",
        "from sklearn import metrics\n",
        "# Model Accuracy, how often is the classifier correct?\n",
        "print(\"Number of mislabeled points out of a total %d points : %d\"\n",
        "      % (X_test_pca.shape[0], (y_test != y_pred_rfpca).sum()))\n",
        "print(\"Accuracy:\",metrics.accuracy_score(y_test, y_pred_rfpca))\n",
        "print(\"F1 Score:\",metrics.f1_score(y_test, y_pred_rfpca))\n",
        "time_rfpca = time.time() - start\n",
        "print('Duration: {} seconds'.format(time.time() - start))\n",
        "\n",
        "confusion_matrix = metrics.confusion_matrix(y_test, y_pred_rfpca)\n",
        "\n",
        "cm_display = metrics.ConfusionMatrixDisplay(confusion_matrix = confusion_matrix,\n",
        "                                            display_labels = [False, True])\n",
        "cm_display.plot()\n",
        "plt.title(\"Decision Tree with PCA\")\n",
        "plt.show()"
      ]
    },
    {
      "cell_type": "code",
      "source": [
        "from sklearn.ensemble import RandomForestClassifier\n",
        "import time\n",
        "\n",
        "start = time.time()\n",
        "#Create a Random forest Classifier\n",
        "clf=RandomForestClassifier(n_estimators=50, criterion='entropy', max_depth= 4)\n",
        "\n",
        "#Train the model using the training sets y_pred=clf.predict(X_test)\n",
        "clf.fit(X_train_lda,y_train)\n",
        "\n",
        "# prediction on test set\n",
        "y_pred_rflda=clf.predict(X_test_lda)\n",
        "\n",
        "#Import scikit-learn metrics module for accuracy calculation\n",
        "from sklearn import metrics\n",
        "# Model Accuracy, how often is the classifier correct?\n",
        "print(\"Number of mislabeled points out of a total %d points : %d\"\n",
        "      % (X_test_lda.shape[0], (y_test != y_pred_rflda).sum()))\n",
        "print(\"Accuracy:\",metrics.accuracy_score(y_test, y_pred_rflda))\n",
        "print(\"F1 Score:\",metrics.f1_score(y_test, y_pred_rflda))\n",
        "time_rflda = time.time() - start\n",
        "print('Duration: {} seconds'.format(time.time() - start))\n",
        "\n",
        "confusion_matrix = metrics.confusion_matrix(y_test, y_pred_rflda)\n",
        "\n",
        "cm_display = metrics.ConfusionMatrixDisplay(confusion_matrix = confusion_matrix,\n",
        "                                            display_labels = [False, True])\n",
        "cm_display.plot()\n",
        "plt.title(\"Decision Tree with LDA\")\n",
        "plt.show()"
      ],
      "metadata": {
        "colab": {
          "base_uri": "https://localhost:8080/",
          "height": 445
        },
        "id": "wWbitNuD5dGD",
        "outputId": "d4e30212-a4aa-4763-ed52-3a5c8eea6074"
      },
      "id": "wWbitNuD5dGD",
      "execution_count": 120,
      "outputs": [
        {
          "output_type": "stream",
          "name": "stdout",
          "text": [
            "Number of mislabeled points out of a total 171 points : 6\n",
            "Accuracy: 0.9649122807017544\n",
            "F1 Score: 0.9538461538461538\n",
            "Duration: 0.10218429565429688 seconds\n"
          ]
        },
        {
          "output_type": "display_data",
          "data": {
            "text/plain": [
              "<Figure size 576x396 with 2 Axes>"
            ],
            "image/png": "[encoded data removed]"
          },
          "metadata": {}
        }
      ]
    },
    {
      "cell_type": "markdown",
      "source": [
        "# Naive Bayes"
      ],
      "metadata": {
        "id": "t4lcFHf3xLX0"
      },
      "id": "t4lcFHf3xLX0"
    },
    {
      "cell_type": "code",
      "source": [
        "from sklearn.naive_bayes import GaussianNB\n",
        "import time\n",
        "\n",
        "start = time.time()\n",
        "\n",
        "gnb = GaussianNB()\n",
        "\n",
        "y_pred_nb = gnb.fit(X_train, y_train).predict(X_test)\n",
        "\n",
        "print(\"Number of mislabeled points out of a total %d points : %d\"\n",
        "      % (X_test.shape[0], (y_test != y_pred_nb).sum()))\n",
        "\n",
        "print(\"Accuracy:\",metrics.accuracy_score(y_test, y_pred_nb))\n",
        "print(\"F1 Score:\",metrics.f1_score(y_test, y_pred_nb))\n",
        "time_nb = time.time() - start\n",
        "print('Duration: {} seconds'.format(time.time() - start))\n",
        "\n",
        "confusion_matrix = metrics.confusion_matrix(y_test, y_pred_nb)\n",
        "\n",
        "cm_display = metrics.ConfusionMatrixDisplay(confusion_matrix = confusion_matrix,\n",
        "                                            display_labels = [False, True])\n",
        "cm_display.plot()\n",
        "plt.title(\"Naive Bayes\")\n",
        "plt.show()"
      ],
      "metadata": {
        "colab": {
          "base_uri": "https://localhost:8080/",
          "height": 480
        },
        "id": "_A8xMhRt1U42",
        "outputId": "29a3a9af-ba28-4d4b-975e-325381ab7fb0"
      },
      "id": "_A8xMhRt1U42",
      "execution_count": 121,
      "outputs": [
        {
          "output_type": "stream",
          "name": "stdout",
          "text": [
            "Number of mislabeled points out of a total 171 points : 107\n",
            "Accuracy: 0.3742690058479532\n",
            "F1 Score: 0.5407725321888412\n",
            "Duration: 0.010116338729858398 seconds\n"
          ]
        },
        {
          "output_type": "stream",
          "name": "stderr",
          "text": [
            "/usr/local/lib/python3.8/dist-packages/sklearn/base.py:450: UserWarning: X does not have valid feature names, but GaussianNB was fitted with feature names\n",
            "  warnings.warn(\n"
          ]
        },
        {
          "output_type": "display_data",
          "data": {
            "text/plain": [
              "<Figure size 576x396 with 2 Axes>"
            ],
            "image/png": "[encoded data removed]"
          },
          "metadata": {}
        }
      ]
    },
    {
      "cell_type": "code",
      "execution_count": 122,
      "id": "c0b52a21",
      "metadata": {
        "colab": {
          "base_uri": "https://localhost:8080/",
          "height": 445
        },
        "id": "c0b52a21",
        "outputId": "ede9eb00-ba57-43a1-eb5c-096043fa789d"
      },
      "outputs": [
        {
          "output_type": "stream",
          "name": "stdout",
          "text": [
            "Number of mislabeled points out of a total 171 points : 13\n",
            "Accuracy: 0.9239766081871345\n",
            "F1 Score: 0.894308943089431\n",
            "Duration: 0.0062465667724609375 seconds\n"
          ]
        },
        {
          "output_type": "display_data",
          "data": {
            "text/plain": [
              "<Figure size 576x396 with 2 Axes>"
            ],
            "image/png": "[encoded data removed]"
          },
          "metadata": {}
        }
      ],
      "source": [
        "from sklearn.naive_bayes import GaussianNB\n",
        "import time\n",
        "\n",
        "start = time.time()\n",
        "\n",
        "gnb = GaussianNB()\n",
        "\n",
        "y_pred_nbpca = gnb.fit(X_train_pca, y_train).predict(X_test_pca)\n",
        "\n",
        "print(\"Number of mislabeled points out of a total %d points : %d\"\n",
        "      % (X_test_pca.shape[0], (y_test != y_pred_nbpca).sum()))\n",
        "\n",
        "print(\"Accuracy:\",metrics.accuracy_score(y_test, y_pred_nbpca))\n",
        "print(\"F1 Score:\",metrics.f1_score(y_test, y_pred_nbpca))\n",
        "\n",
        "time_nbpca = time.time() - start\n",
        "print('Duration: {} seconds'.format(time.time() - start))\n",
        "\n",
        "confusion_matrix = metrics.confusion_matrix(y_test, y_pred_nbpca)\n",
        "\n",
        "cm_display = metrics.ConfusionMatrixDisplay(confusion_matrix = confusion_matrix,\n",
        "                                            display_labels = [False, True])\n",
        "cm_display.plot()\n",
        "plt.title(\"Naive Bayes with PCA\")\n",
        "plt.show()"
      ]
    },
    {
      "cell_type": "code",
      "source": [
        "from sklearn.naive_bayes import GaussianNB\n",
        "import time\n",
        "\n",
        "start = time.time()\n",
        "\n",
        "gnb = GaussianNB()\n",
        "\n",
        "y_pred_nblda = gnb.fit(X_train_lda, y_train).predict(X_test_lda)\n",
        "\n",
        "print(\"Number of mislabeled points out of a total %d points : %d\"\n",
        "      % (X_test_lda.shape[0], (y_test != y_pred_nblda).sum()))\n",
        "\n",
        "print(\"Accuracy:\",metrics.accuracy_score(y_test, y_pred_nblda))\n",
        "print(\"F1 Score:\",metrics.f1_score(y_test, y_pred_nblda))\n",
        "\n",
        "time_nblda = time.time() - start\n",
        "print('Duration: {} seconds'.format(time.time() - start))\n",
        "\n",
        "confusion_matrix = metrics.confusion_matrix(y_test, y_pred_nblda)\n",
        "\n",
        "cm_display = metrics.ConfusionMatrixDisplay(confusion_matrix = confusion_matrix,\n",
        "                                            display_labels = [False, True])\n",
        "cm_display.plot()\n",
        "plt.title(\"Naive Bayes with LDA\")\n",
        "plt.show()"
      ],
      "metadata": {
        "colab": {
          "base_uri": "https://localhost:8080/",
          "height": 445
        },
        "id": "TfZFyk0I63ST",
        "outputId": "3812d032-4997-48d9-8b2f-89f26b4ffc66"
      },
      "id": "TfZFyk0I63ST",
      "execution_count": 123,
      "outputs": [
        {
          "output_type": "stream",
          "name": "stdout",
          "text": [
            "Number of mislabeled points out of a total 171 points : 3\n",
            "Accuracy: 0.9824561403508771\n",
            "F1 Score: 0.9763779527559054\n",
            "Duration: 0.004866123199462891 seconds\n"
          ]
        },
        {
          "output_type": "display_data",
          "data": {
            "text/plain": [
              "<Figure size 576x396 with 2 Axes>"
            ],
            "image/png": "[encoded data removed]"
          },
          "metadata": {}
        }
      ]
    },
    {
      "cell_type": "markdown",
      "source": [
        "# Logistic Regression"
      ],
      "metadata": {
        "id": "-vC_X32ixSbz"
      },
      "id": "-vC_X32ixSbz"
    },
    {
      "cell_type": "code",
      "execution_count": 124,
      "id": "6a8fe331",
      "metadata": {
        "colab": {
          "base_uri": "https://localhost:8080/",
          "height": 619
        },
        "id": "6a8fe331",
        "outputId": "67e488d5-171b-45ab-8f48-8163c6256c1f"
      },
      "outputs": [
        {
          "output_type": "stream",
          "name": "stderr",
          "text": [
            "/usr/local/lib/python3.8/dist-packages/sklearn/linear_model/_logistic.py:814: ConvergenceWarning: lbfgs failed to converge (status=1):\n",
            "STOP: TOTAL NO. of ITERATIONS REACHED LIMIT.\n",
            "\n",
            "Increase the number of iterations (max_iter) or scale the data as shown in:\n",
            "    https://scikit-learn.org/stable/modules/preprocessing.html\n",
            "Please also refer to the documentation for alternative solver options:\n",
            "    https://scikit-learn.org/stable/modules/linear_model.html#logistic-regression\n",
            "  n_iter_i = _check_optimize_result(\n",
            "/usr/local/lib/python3.8/dist-packages/sklearn/base.py:450: UserWarning: X does not have valid feature names, but LogisticRegression was fitted with feature names\n",
            "  warnings.warn(\n"
          ]
        },
        {
          "output_type": "stream",
          "name": "stdout",
          "text": [
            "Number of mislabeled points out of a total 171 points : 85\n",
            "Accuracy: 0.5029239766081871\n",
            "F1 Score: 0.3703703703703703\n",
            "Duration: 0.06458854675292969 seconds\n"
          ]
        },
        {
          "output_type": "display_data",
          "data": {
            "text/plain": [
              "<Figure size 576x396 with 2 Axes>"
            ],
            "image/png": "[encoded data removed]"
          },
          "metadata": {}
        }
      ],
      "source": [
        "from sklearn.linear_model import LogisticRegression\n",
        "import time\n",
        "\n",
        "start = time.time()\n",
        "\n",
        "clf = LogisticRegression(random_state=0).fit(X_train, y_train)\n",
        "\n",
        "y_pred_lr=clf.predict(X_test)\n",
        "print(\"Number of mislabeled points out of a total %d points : %d\"\n",
        "      % (X_test.shape[0], (y_test != y_pred_lr).sum()))\n",
        "print(\"Accuracy:\",metrics.accuracy_score(y_test, y_pred_lr))\n",
        "print(\"F1 Score:\",metrics.f1_score(y_test, y_pred_lr))\n",
        "\n",
        "time_lr = time.time() - start\n",
        "print('Duration: {} seconds'.format(time.time() - start))\n",
        "\n",
        "confusion_matrix = metrics.confusion_matrix(y_test, y_pred_lr)\n",
        "\n",
        "cm_display = metrics.ConfusionMatrixDisplay(confusion_matrix = confusion_matrix,\n",
        "                                            display_labels = [False, True])\n",
        "cm_display.plot()\n",
        "plt.title(\"Logistic Regression\")\n",
        "plt.show()"
      ]
    },
    {
      "cell_type": "code",
      "execution_count": 125,
      "id": "35e12d2f",
      "metadata": {
        "id": "35e12d2f",
        "colab": {
          "base_uri": "https://localhost:8080/",
          "height": 445
        },
        "outputId": "a82905cf-8399-4eb2-fdc9-3ecc8dad3b55"
      },
      "outputs": [
        {
          "output_type": "stream",
          "name": "stdout",
          "text": [
            "Number of mislabeled points out of a total 171 points : 5\n",
            "Accuracy: 0.9707602339181286\n",
            "F1 Score: 0.96\n",
            "Duration: 0.025126934051513672 seconds\n"
          ]
        },
        {
          "output_type": "display_data",
          "data": {
            "text/plain": [
              "<Figure size 576x396 with 2 Axes>"
            ],
            "image/png": "[encoded data removed]"
          },
          "metadata": {}
        }
      ],
      "source": [
        "from sklearn.linear_model import LogisticRegression\n",
        "import time\n",
        "\n",
        "start = time.time()\n",
        "\n",
        "clf = LogisticRegression(random_state=0).fit(X_train_pca, y_train)\n",
        "\n",
        "y_pred_lrpca=clf.predict(X_test_pca)\n",
        "\n",
        "print(\"Number of mislabeled points out of a total %d points : %d\"\n",
        "      % (X_test_pca.shape[0], (y_test != y_pred_lrpca).sum()))\n",
        "print(\"Accuracy:\",metrics.accuracy_score(y_test, y_pred_lrpca))\n",
        "print(\"F1 Score:\",metrics.f1_score(y_test, y_pred_lrpca))\n",
        "\n",
        "time_lrpca = time.time() - start\n",
        "print('Duration: {} seconds'.format(time.time() - start))\n",
        "\n",
        "confusion_matrix = metrics.confusion_matrix(y_test, y_pred_lrpca)\n",
        "\n",
        "cm_display = metrics.ConfusionMatrixDisplay(confusion_matrix = confusion_matrix,\n",
        "                                            display_labels = [False, True])\n",
        "cm_display.plot()\n",
        "plt.title(\"Logistic Regression with PCA\")\n",
        "plt.show()\n"
      ]
    },
    {
      "cell_type": "code",
      "source": [
        "from sklearn.linear_model import LogisticRegression\n",
        "import time\n",
        "\n",
        "start = time.time()\n",
        "\n",
        "clf = LogisticRegression(random_state=0).fit(X_train_lda, y_train)\n",
        "\n",
        "y_pred_lrlda=clf.predict(X_test_lda)\n",
        "\n",
        "print(\"Number of mislabeled points out of a total %d points : %d\"\n",
        "      % (X_test_lda.shape[0], (y_test != y_pred_lrlda).sum()))\n",
        "print(\"Accuracy:\",metrics.accuracy_score(y_test, y_pred_lrlda))\n",
        "print(\"F1 Score:\",metrics.f1_score(y_test, y_pred_lrlda))\n",
        "\n",
        "time_lrlda = time.time() - start\n",
        "print('Duration: {} seconds'.format(time.time() - start))\n",
        "\n",
        "confusion_matrix = metrics.confusion_matrix(y_test, y_pred_lrlda)\n",
        "\n",
        "cm_display = metrics.ConfusionMatrixDisplay(confusion_matrix = confusion_matrix,\n",
        "                                            display_labels = [False, True])\n",
        "cm_display.plot()\n",
        "plt.title(\"Logistic Regression with LDA\")\n",
        "plt.show()\n"
      ],
      "metadata": {
        "colab": {
          "base_uri": "https://localhost:8080/",
          "height": 445
        },
        "id": "WaJdCo2M6_kw",
        "outputId": "aa18a150-5a98-42d9-dbf9-0d554687231c"
      },
      "id": "WaJdCo2M6_kw",
      "execution_count": 126,
      "outputs": [
        {
          "output_type": "stream",
          "name": "stdout",
          "text": [
            "Number of mislabeled points out of a total 171 points : 3\n",
            "Accuracy: 0.9824561403508771\n",
            "F1 Score: 0.9763779527559054\n",
            "Duration: 0.013913631439208984 seconds\n"
          ]
        },
        {
          "output_type": "display_data",
          "data": {
            "text/plain": [
              "<Figure size 576x396 with 2 Axes>"
            ],
            "image/png": "[encoded data removed]"
          },
          "metadata": {}
        }
      ]
    },
    {
      "cell_type": "code",
      "source": [],
      "metadata": {
        "id": "t25qafqNu9lx"
      },
      "id": "t25qafqNu9lx",
      "execution_count": 126,
      "outputs": []
    },
    {
      "cell_type": "markdown",
      "source": [
        "# SVM"
      ],
      "metadata": {
        "id": "j1QSxd-x16ql"
      },
      "id": "j1QSxd-x16ql"
    },
    {
      "cell_type": "code",
      "source": [
        "from sklearn.pipeline import make_pipeline\n",
        "from sklearn.svm import SVC\n",
        "import time\n",
        "\n",
        "start = time.time()\n",
        "# clf = make_pipeline(StandardScaler(), SVC(gamma='auto'))\n",
        "clf = make_pipeline( SVC(gamma='auto'))\n",
        "clf.fit(X_train, y_train)\n",
        "\n",
        "y_pred_svm=clf.predict(X_test)\n",
        "print(\"Number of mislabeled points out of a total %d points : %d\"\n",
        "      % (X_test.shape[0], (y_test != y_pred_svm).sum()))\n",
        "print(\"Accuracy:\",metrics.accuracy_score(y_test, y_pred_svm))\n",
        "print(\"F1 Score:\",metrics.f1_score(y_test, y_pred_svm))\n",
        "print('Duration: {} seconds'.format(time.time() - start))\n",
        "\n",
        "time_svm = time.time() - start\n",
        "print('Duration: {} seconds'.format(time.time() - start))\n",
        "\n",
        "confusion_matrix = metrics.confusion_matrix(y_test, y_pred_svm)\n",
        "\n",
        "cm_display = metrics.ConfusionMatrixDisplay(confusion_matrix = confusion_matrix,\n",
        "                                            display_labels = [False, True])\n",
        "cm_display.plot()\n",
        "plt.title(\"SVM\")\n",
        "plt.show()"
      ],
      "metadata": {
        "colab": {
          "base_uri": "https://localhost:8080/",
          "height": 497
        },
        "id": "ijPW2OsMyTM0",
        "outputId": "538b1d84-0228-4121-d6a0-d02d6530b989"
      },
      "id": "ijPW2OsMyTM0",
      "execution_count": 127,
      "outputs": [
        {
          "output_type": "stream",
          "name": "stderr",
          "text": [
            "/usr/local/lib/python3.8/dist-packages/sklearn/base.py:450: UserWarning: X does not have valid feature names, but SVC was fitted with feature names\n",
            "  warnings.warn(\n"
          ]
        },
        {
          "output_type": "stream",
          "name": "stdout",
          "text": [
            "Number of mislabeled points out of a total 171 points : 63\n",
            "Accuracy: 0.631578947368421\n",
            "F1 Score: 0.0\n",
            "Duration: 0.03102421760559082 seconds\n",
            "Duration: 0.031160354614257812 seconds\n"
          ]
        },
        {
          "output_type": "display_data",
          "data": {
            "text/plain": [
              "<Figure size 576x396 with 2 Axes>"
            ],
            "image/png": "[encoded data removed]"
          },
          "metadata": {}
        }
      ]
    },
    {
      "cell_type": "code",
      "source": [
        "from sklearn.pipeline import make_pipeline\n",
        "from sklearn.svm import SVC\n",
        "import time\n",
        "\n",
        "start = time.time()\n",
        "\n",
        "# clf = make_pipeline(StandardScaler(), SVC(gamma='auto'))\n",
        "clf = make_pipeline(SVC(gamma='auto'))\n",
        "clf.fit(X_train_pca, y_train)\n",
        "\n",
        "y_pred_svmpca=clf.predict(X_test_pca)\n",
        "print(\"Number of mislabeled points out of a total %d points : %d\"\n",
        "      % (X_test_pca.shape[0], (y_test != y_pred_svmpca).sum()))\n",
        "print(\"Accuracy:\",metrics.accuracy_score(y_test, y_pred_svmpca))\n",
        "print(\"F1 Score:\",metrics.f1_score(y_test, y_pred_svmpca))\n",
        "print('Duration: {} seconds'.format(time.time() - start))\n",
        "\n",
        "time_svmpca = time.time() - start\n",
        "print('Duration: {} seconds'.format(time.time() - start))\n",
        "\n",
        "confusion_matrix = metrics.confusion_matrix(y_test, y_pred_svmpca)\n",
        "\n",
        "cm_display = metrics.ConfusionMatrixDisplay(confusion_matrix = confusion_matrix,\n",
        "                                            display_labels = [False, True])\n",
        "cm_display.plot()\n",
        "plt.title(\"SVM with PCA\")\n",
        "plt.show()"
      ],
      "metadata": {
        "colab": {
          "base_uri": "https://localhost:8080/",
          "height": 463
        },
        "id": "5WOK_rekzGS1",
        "outputId": "1a2cf388-3f44-47b9-b6e6-53a6570d7d46"
      },
      "id": "5WOK_rekzGS1",
      "execution_count": 128,
      "outputs": [
        {
          "output_type": "stream",
          "name": "stdout",
          "text": [
            "Number of mislabeled points out of a total 171 points : 13\n",
            "Accuracy: 0.9239766081871345\n",
            "F1 Score: 0.8976377952755906\n",
            "Duration: 0.03253030776977539 seconds\n",
            "Duration: 0.033071279525756836 seconds\n"
          ]
        },
        {
          "output_type": "display_data",
          "data": {
            "text/plain": [
              "<Figure size 576x396 with 2 Axes>"
            ],
            "image/png": "[encoded data removed]"
          },
          "metadata": {}
        }
      ]
    },
    {
      "cell_type": "code",
      "source": [
        "from sklearn.pipeline import make_pipeline\n",
        "from sklearn.svm import SVC\n",
        "import time\n",
        "\n",
        "start = time.time()\n",
        "\n",
        "# clf = make_pipeline(StandardScaler(), SVC(gamma='auto'))\n",
        "clf = make_pipeline(SVC(gamma='auto'))\n",
        "clf.fit(X_train_lda, y_train)\n",
        "\n",
        "y_pred_svmlda=clf.predict(X_test_lda)\n",
        "print(\"Number of mislabeled points out of a total %d points : %d\"\n",
        "      % (X_test_lda.shape[0], (y_test != y_pred_svmlda).sum()))\n",
        "print(\"Accuracy:\",metrics.accuracy_score(y_test, y_pred_svmlda))\n",
        "print(\"F1 Score:\",metrics.f1_score(y_test, y_pred_svmlda))\n",
        "print('Duration: {} seconds'.format(time.time() - start))\n",
        "\n",
        "time_svmlda = time.time() - start\n",
        "print('Duration: {} seconds'.format(time.time() - start))\n",
        "\n",
        "confusion_matrix = metrics.confusion_matrix(y_test, y_pred_svmlda)\n",
        "\n",
        "cm_display = metrics.ConfusionMatrixDisplay(confusion_matrix = confusion_matrix,\n",
        "                                            display_labels = [False, True])\n",
        "cm_display.plot()\n",
        "plt.title(\"SVM with LDA\")\n",
        "plt.show()"
      ],
      "metadata": {
        "colab": {
          "base_uri": "https://localhost:8080/",
          "height": 463
        },
        "id": "LmXHC9uC7MJP",
        "outputId": "9fc247c6-1779-4455-9a43-bf94e58271d0"
      },
      "id": "LmXHC9uC7MJP",
      "execution_count": 129,
      "outputs": [
        {
          "output_type": "stream",
          "name": "stdout",
          "text": [
            "Number of mislabeled points out of a total 171 points : 3\n",
            "Accuracy: 0.9824561403508771\n",
            "F1 Score: 0.9763779527559054\n",
            "Duration: 0.011297941207885742 seconds\n",
            "Duration: 0.011426210403442383 seconds\n"
          ]
        },
        {
          "output_type": "display_data",
          "data": {
            "text/plain": [
              "<Figure size 576x396 with 2 Axes>"
            ],
            "image/png": "[encoded data removed]"
          },
          "metadata": {}
        }
      ]
    },
    {
      "cell_type": "markdown",
      "source": [
        "# Kernel SVM"
      ],
      "metadata": {
        "id": "SrLtV60G7DWA"
      },
      "id": "SrLtV60G7DWA"
    },
    {
      "cell_type": "code",
      "source": [
        "from sklearn import svm\n",
        "\n",
        "# clf1 = svm.SVC(C = 1, kernel=\"linear\",gamma=0.01)\n",
        "clf1 = svm.SVC(kernel=\"linear\",)\n",
        "clf2 = svm.SVC(C = 1.5, kernel=\"rbf\",gamma='scale')\n",
        "clf3 = svm.SVC(C = 100, kernel=\"sigmoid\",gamma=0.001)\n",
        "clf4 = svm.SVC(C = 11, kernel=\"poly\",gamma='scale')\n",
        "\n",
        "clf1.fit(X_train,y_train)\n",
        "clf2.fit(X_train,y_train)\n",
        "clf3.fit(X_train,y_train)\n",
        "clf4.fit(X_train,y_train)\n",
        "\n",
        "y_pred_ksvm1=clf1.predict(X_test)\n",
        "y_pred_ksvm2=clf2.predict(X_test)\n",
        "y_pred_ksvm3=clf3.predict(X_test)\n",
        "y_pred_ksvm4=clf4.predict(X_test)\n",
        "print(\"Number of mislabeled points out of a total %d points : %d\"\n",
        "      % (X_test.shape[0], (y_test != y_pred_ksvm1).sum()))\n",
        "print(\"Accuracy:\",metrics.accuracy_score(y_test, y_pred_ksvm1))\n",
        "print(\"F1 Score:\",metrics.f1_score(y_test, y_pred_ksvm1))\n",
        "\n",
        "confusion_matrix = metrics.confusion_matrix(y_test, y_pred_ksvm1)\n",
        "\n",
        "cm_display = metrics.ConfusionMatrixDisplay(confusion_matrix = confusion_matrix,\n",
        "                                            display_labels = [False, True])\n",
        "cm_display.plot()\n",
        "plt.title('Kernel SVM')\n",
        "plt.show()\n",
        "\n"
      ],
      "metadata": {
        "id": "cGa7PM2CzQMZ",
        "colab": {
          "base_uri": "https://localhost:8080/",
          "height": 567
        },
        "outputId": "35d5618c-b88d-4170-ef92-036c9a0a483b"
      },
      "id": "cGa7PM2CzQMZ",
      "execution_count": 130,
      "outputs": [
        {
          "output_type": "stream",
          "name": "stderr",
          "text": [
            "/usr/local/lib/python3.8/dist-packages/sklearn/base.py:450: UserWarning: X does not have valid feature names, but SVC was fitted with feature names\n",
            "  warnings.warn(\n",
            "/usr/local/lib/python3.8/dist-packages/sklearn/base.py:450: UserWarning: X does not have valid feature names, but SVC was fitted with feature names\n",
            "  warnings.warn(\n",
            "/usr/local/lib/python3.8/dist-packages/sklearn/base.py:450: UserWarning: X does not have valid feature names, but SVC was fitted with feature names\n",
            "  warnings.warn(\n",
            "/usr/local/lib/python3.8/dist-packages/sklearn/base.py:450: UserWarning: X does not have valid feature names, but SVC was fitted with feature names\n",
            "  warnings.warn(\n"
          ]
        },
        {
          "output_type": "stream",
          "name": "stdout",
          "text": [
            "Number of mislabeled points out of a total 171 points : 63\n",
            "Accuracy: 0.631578947368421\n",
            "F1 Score: 0.0\n"
          ]
        },
        {
          "output_type": "display_data",
          "data": {
            "text/plain": [
              "<Figure size 576x396 with 2 Axes>"
            ],
            "image/png": "[encoded data removed]"
          },
          "metadata": {}
        }
      ]
    },
    {
      "cell_type": "code",
      "source": [],
      "metadata": {
        "id": "KBGQ1cXL85sE"
      },
      "id": "KBGQ1cXL85sE",
      "execution_count": 130,
      "outputs": []
    },
    {
      "cell_type": "code",
      "source": [
        "from sklearn import svm\n",
        "\n",
        "clf1 = svm.SVC(C = 1, kernel=\"linear\",gamma=0.01)\n",
        "clf2 = svm.SVC(C = 1, kernel=\"rbf\",gamma=0.01)\n",
        "clf3 = svm.SVC(C = 40, kernel=\"sigmoid\",gamma=0.001)\n",
        "clf4 = svm.SVC(C = 1, kernel=\"poly\",gamma=0.01)\n",
        "\n",
        "clf1.fit(X_train_pca, y_train)\n",
        "clf2.fit(X_train_pca, y_train)\n",
        "clf3.fit(X_train_pca, y_train)\n",
        "clf4.fit(X_train_pca, y_train)\n",
        "\n",
        "y_pred_ksvmpca1=clf1.predict(X_test_pca)\n",
        "y_pred_ksvmpca2=clf2.predict(X_test_pca)\n",
        "y_pred_ksvmpca3=clf3.predict(X_test_pca)\n",
        "y_pred_ksvmpca4=clf4.predict(X_test_pca)\n",
        "print(\"Number of mislabeled points out of a total %d points : %d\"\n",
        "      % (X_test_pca.shape[0], (y_test != y_pred_ksvmpca1).sum()))\n",
        "print(\"Accuracy:\",metrics.accuracy_score(y_test, y_pred_ksvmpca1))\n",
        "print(\"F1 Score:\",metrics.f1_score(y_test, y_pred_ksvmpca1))\n",
        "\n",
        "confusion_matrix = metrics.confusion_matrix(y_test, y_pred_ksvmpca1)\n",
        "\n",
        "cm_display = metrics.ConfusionMatrixDisplay(confusion_matrix = confusion_matrix,\n",
        "                                            display_labels = [False, True])\n",
        "cm_display.plot()\n",
        "plt.show()\n",
        "\n"
      ],
      "metadata": {
        "id": "72LN-Xk_08ox",
        "colab": {
          "base_uri": "https://localhost:8080/",
          "height": 413
        },
        "outputId": "05851663-2552-475b-9730-f62ea97566ec"
      },
      "id": "72LN-Xk_08ox",
      "execution_count": 131,
      "outputs": [
        {
          "output_type": "stream",
          "name": "stdout",
          "text": [
            "Number of mislabeled points out of a total 171 points : 6\n",
            "Accuracy: 0.9649122807017544\n",
            "F1 Score: 0.9516129032258064\n"
          ]
        },
        {
          "output_type": "display_data",
          "data": {
            "text/plain": [
              "<Figure size 576x396 with 2 Axes>"
            ],
            "image/png": "[encoded data removed]"
          },
          "metadata": {}
        }
      ]
    },
    {
      "cell_type": "code",
      "source": [],
      "metadata": {
        "id": "_DWg5nBM875L"
      },
      "id": "_DWg5nBM875L",
      "execution_count": 131,
      "outputs": []
    },
    {
      "cell_type": "code",
      "source": [
        "from sklearn import svm\n",
        "\n",
        "clf1 = svm.SVC(C = 1, kernel=\"linear\",gamma=0.01)\n",
        "clf2 = svm.SVC(C = 1, kernel=\"rbf\",gamma=0.01)\n",
        "clf3 = svm.SVC(C = 40, kernel=\"sigmoid\",gamma=0.001)\n",
        "clf4 = svm.SVC(C = 40, kernel=\"poly\",gamma=0.01)\n",
        "\n",
        "clf1.fit(X_train_lda,y_train)\n",
        "clf2.fit(X_train_lda,y_train)\n",
        "clf3.fit(X_train_lda,y_train)\n",
        "clf4.fit(X_train_lda,y_train)\n",
        "\n",
        "y_pred_ksvmlda1=clf1.predict(X_test_lda)\n",
        "y_pred_ksvmlda2=clf2.predict(X_test_lda)\n",
        "y_pred_ksvmlda3=clf3.predict(X_test_lda)\n",
        "y_pred_ksvmlda4=clf4.predict(X_test_lda)\n",
        "\n",
        "\n",
        "print(\"Number of mislabeled points out of a total %d points : %d\"\n",
        "      % (X_test_pca.shape[0], (y_test != y_pred_ksvmlda1).sum()))\n",
        "print(\"Accuracy:\",metrics.accuracy_score(y_test, y_pred_ksvmlda1))\n",
        "print(\"F1 Score:\",metrics.f1_score(y_test, y_pred_ksvmlda1))\n",
        "\n",
        "confusion_matrix = metrics.confusion_matrix(y_test, y_pred_ksvmlda1)\n",
        "\n",
        "cm_display = metrics.ConfusionMatrixDisplay(confusion_matrix = confusion_matrix,\n",
        "                                            display_labels = [False, True])\n",
        "cm_display.plot()\n",
        "plt.show()\n",
        "\n"
      ],
      "metadata": {
        "id": "e9dEBGlA7U54",
        "colab": {
          "base_uri": "https://localhost:8080/",
          "height": 413
        },
        "outputId": "f3b9d001-da98-4ffe-a0dc-f552c7db79b2"
      },
      "id": "e9dEBGlA7U54",
      "execution_count": 132,
      "outputs": [
        {
          "output_type": "stream",
          "name": "stdout",
          "text": [
            "Number of mislabeled points out of a total 171 points : 3\n",
            "Accuracy: 0.9824561403508771\n",
            "F1 Score: 0.9763779527559054\n"
          ]
        },
        {
          "output_type": "display_data",
          "data": {
            "text/plain": [
              "<Figure size 576x396 with 2 Axes>"
            ],
            "image/png": "[encoded data removed]"
          },
          "metadata": {}
        }
      ]
    },
    {
      "cell_type": "code",
      "source": [],
      "metadata": {
        "id": "EVzaBAaN8-C0"
      },
      "id": "EVzaBAaN8-C0",
      "execution_count": 132,
      "outputs": []
    },
    {
      "cell_type": "code",
      "source": [
        "# initialize list of lists\n",
        "nb = metrics.f1_score(y_test, y_pred_nb)\n",
        "rf = metrics.f1_score(y_test, y_pred_rf)\n",
        "lr = metrics.f1_score(y_test, y_pred_lr)\n",
        "svm = metrics.f1_score(y_test, y_pred_svm)\n",
        "# ksvm = metrics.f1_score(y_test, y_pred_ksvm)\n",
        "\n",
        "nbpca = metrics.f1_score(y_test, y_pred_nbpca)\n",
        "rfpca = metrics.f1_score(y_test, y_pred_rfpca)\n",
        "lrpca = metrics.f1_score(y_test, y_pred_lrpca)\n",
        "svmpca = metrics.f1_score(y_test, y_pred_svmpca)\n",
        "# ksvmpca = metrics.f1_score(y_test, y_pred_ksvmpca)\n",
        "\n",
        "nblda = metrics.f1_score(y_test, y_pred_nblda)\n",
        "rflda = metrics.f1_score(y_test, y_pred_rflda)\n",
        "lrlda = metrics.f1_score(y_test, y_pred_lrlda)\n",
        "svmlda = metrics.f1_score(y_test, y_pred_svmlda)\n",
        "# ksvmlda = metrics.f1_score(y_test, y_pred_ksvmlda)\n",
        "\n",
        "data = [['Naive Bayes', nb, nbpca, nblda], ['Random Forest', rf, rfpca, rflda],\n",
        "        ['Logestic Regression', lr, lrpca, lrlda],['SVM', svm, svmpca, svmlda]]\n",
        " \n",
        "# Create the pandas DataFrame\n",
        "df = pd.DataFrame(data, columns=['Method', 'F1 Score','F1 Score (Apply PCA)',\n",
        "                                 'F1 Score (Apply LDA)'])\n",
        " \n",
        "# print dataframe.\n",
        "df"
      ],
      "metadata": {
        "colab": {
          "base_uri": "https://localhost:8080/",
          "height": 175
        },
        "id": "98rzmtK43jPO",
        "outputId": "1df87e8e-76f7-4fb7-e601-50bdf9956474"
      },
      "id": "98rzmtK43jPO",
      "execution_count": 133,
      "outputs": [
        {
          "output_type": "execute_result",
          "data": {
            "text/plain": [
              "                Method  F1 Score  F1 Score (Apply PCA)  F1 Score (Apply LDA)\n",
              "0          Naive Bayes  0.540773              0.894309              0.976378\n",
              "1        Random Forest  0.000000              0.897638              0.953846\n",
              "2  Logestic Regression  0.370370              0.960000              0.976378\n",
              "3                  SVM  0.000000              0.897638              0.976378"
            ],
            "text/html": [
              "\n",
              "  <div id=\"df-d8d1bb42-be21-41fa-ab28-55aed94725bb\">\n",
              "    <div class=\"colab-df-container\">\n",
              "      <div>\n",
              "<style scoped>\n",
              "    .dataframe tbody tr th:only-of-type {\n",
              "        vertical-align: middle;\n",
              "    }\n",
              "\n",
              "    .dataframe tbody tr th {\n",
              "        vertical-align: top;\n",
              "    }\n",
              "\n",
              "    .dataframe thead th {\n",
              "        text-align: right;\n",
              "    }\n",
              "</style>\n",
              "<table border=\"1\" class=\"dataframe\">\n",
              "  <thead>\n",
              "    <tr style=\"text-align: right;\">\n",
              "      <th></th>\n",
              "      <th>Method</th>\n",
              "      <th>F1 Score</th>\n",
              "      <th>F1 Score (Apply PCA)</th>\n",
              "      <th>F1 Score (Apply LDA)</th>\n",
              "    </tr>\n",
              "  </thead>\n",
              "  <tbody>\n",
              "    <tr>\n",
              "      <th>0</th>\n",
              "      <td>Naive Bayes</td>\n",
              "      <td>0.540773</td>\n",
              "      <td>0.894309</td>\n",
              "      <td>0.976378</td>\n",
              "    </tr>\n",
              "    <tr>\n",
              "      <th>1</th>\n",
              "      <td>Random Forest</td>\n",
              "      <td>0.000000</td>\n",
              "      <td>0.897638</td>\n",
              "      <td>0.953846</td>\n",
              "    </tr>\n",
              "    <tr>\n",
              "      <th>2</th>\n",
              "      <td>Logestic Regression</td>\n",
              "      <td>0.370370</td>\n",
              "      <td>0.960000</td>\n",
              "      <td>0.976378</td>\n",
              "    </tr>\n",
              "    <tr>\n",
              "      <th>3</th>\n",
              "      <td>SVM</td>\n",
              "      <td>0.000000</td>\n",
              "      <td>0.897638</td>\n",
              "      <td>0.976378</td>\n",
              "    </tr>\n",
              "  </tbody>\n",
              "</table>\n",
              "</div>\n",
              "      <button class=\"colab-df-convert\" onclick=\"convertToInteractive('df-d8d1bb42-be21-41fa-ab28-55aed94725bb')\"\n",
              "              title=\"Convert this dataframe to an interactive table.\"\n",
              "              style=\"display:none;\">\n",
              "        \n",
              "  <svg xmlns=\"http://www.w3.org/2000/svg\" height=\"24px\"viewBox=\"0 0 24 24\"\n",
              "       width=\"24px\">\n",
              "    <path d=\"M0 0h24v24H0V0z\" fill=\"none\"/>\n",
              "    <path d=\"M18.56 5.44l.94 2.06.94-2.06 2.06-.94-2.06-.94-.94-2.06-.94 2.06-2.06.94zm-11 1L8.5 8.5l.94-2.06 2.06-.94-2.06-.94L8.5 2.5l-.94 2.06-2.06.94zm10 10l.94 2.06.94-2.06 2.06-.94-2.06-.94-.94-2.06-.94 2.06-2.06.94z\"/><path d=\"M17.41 7.96l-1.37-1.37c-.4-.4-.92-.59-1.43-.59-.52 0-1.04.2-1.43.59L10.3 9.45l-7.72 7.72c-.78.78-.78 2.05 0 2.83L4 21.41c.39.39.9.59 1.41.59.51 0 1.02-.2 1.41-.59l7.78-7.78 2.81-2.81c.8-.78.8-2.07 0-2.86zM5.41 20L4 18.59l7.72-7.72 1.47 1.35L5.41 20z\"/>\n",
              "  </svg>\n",
              "      </button>\n",
              "      \n",
              "  <style>\n",
              "    .colab-df-container {\n",
              "      display:flex;\n",
              "      flex-wrap:wrap;\n",
              "      gap: 12px;\n",
              "    }\n",
              "\n",
              "    .colab-df-convert {\n",
              "      background-color: #E8F0FE;\n",
              "      border: none;\n",
              "      border-radius: 50%;\n",
              "      cursor: pointer;\n",
              "      display: none;\n",
              "      fill: #1967D2;\n",
              "      height: 32px;\n",
              "      padding: 0 0 0 0;\n",
              "      width: 32px;\n",
              "    }\n",
              "\n",
              "    .colab-df-convert:hover {\n",
              "      background-color: #E2EBFA;\n",
              "      box-shadow: 0px 1px 2px rgba(60, 64, 67, 0.3), 0px 1px 3px 1px rgba(60, 64, 67, 0.15);\n",
              "      fill: #174EA6;\n",
              "    }\n",
              "\n",
              "    [theme=dark] .colab-df-convert {\n",
              "      background-color: #3B4455;\n",
              "      fill: #D2E3FC;\n",
              "    }\n",
              "\n",
              "    [theme=dark] .colab-df-convert:hover {\n",
              "      background-color: #434B5C;\n",
              "      box-shadow: 0px 1px 3px 1px rgba(0, 0, 0, 0.15);\n",
              "      filter: drop-shadow(0px 1px 2px rgba(0, 0, 0, 0.3));\n",
              "      fill: #FFFFFF;\n",
              "    }\n",
              "  </style>\n",
              "\n",
              "      <script>\n",
              "        const buttonEl =\n",
              "          document.querySelector('#df-d8d1bb42-be21-41fa-ab28-55aed94725bb button.colab-df-convert');\n",
              "        buttonEl.style.display =\n",
              "          google.colab.kernel.accessAllowed ? 'block' : 'none';\n",
              "\n",
              "        async function convertToInteractive(key) {\n",
              "          const element = document.querySelector('#df-d8d1bb42-be21-41fa-ab28-55aed94725bb');\n",
              "          const dataTable =\n",
              "            await google.colab.kernel.invokeFunction('convertToInteractive',\n",
              "                                                     [key], {});\n",
              "          if (!dataTable) return;\n",
              "\n",
              "          const docLinkHtml = 'Like what you see? Visit the ' +\n",
              "            '<a target=\"_blank\" href=https://colab.research.google.com/notebooks/data_table.ipynb>data table notebook</a>'\n",
              "            + ' to learn more about interactive tables.';\n",
              "          element.innerHTML = '';\n",
              "          dataTable['output_type'] = 'display_data';\n",
              "          await google.colab.output.renderOutput(dataTable, element);\n",
              "          const docLink = document.createElement('div');\n",
              "          docLink.innerHTML = docLinkHtml;\n",
              "          element.appendChild(docLink);\n",
              "        }\n",
              "      </script>\n",
              "    </div>\n",
              "  </div>\n",
              "  "
            ]
          },
          "metadata": {},
          "execution_count": 133
        }
      ]
    },
    {
      "cell_type": "code",
      "source": [
        "data = [['Naive', time_nb, time_nbpca, time_nblda], ['Random Forest', time_rf, time_rfpca, time_rflda],\n",
        "        ['Logestic Regression', time_lr, time_lrpca, time_lrlda],['SVM', time_svm, time_svmpca, time_svmlda]]\n",
        " \n",
        "# Create the pandas DataFrame\n",
        "df = pd.DataFrame(data, columns=['Kernel', 'Original','PCA',\n",
        "                                 'LDA'])\n",
        " \n",
        "# print dataframe.\n",
        "df"
      ],
      "metadata": {
        "id": "6XlQMYuo3u3S",
        "colab": {
          "base_uri": "https://localhost:8080/",
          "height": 175
        },
        "outputId": "187711fc-bac8-4dcd-a040-c7685e188e84"
      },
      "id": "6XlQMYuo3u3S",
      "execution_count": 134,
      "outputs": [
        {
          "output_type": "execute_result",
          "data": {
            "text/plain": [
              "                Kernel  Original       PCA       LDA\n",
              "0                Naive  0.010058  0.006203  0.004824\n",
              "1        Random Forest  0.151985  0.349165  0.102122\n",
              "2  Logestic Regression  0.064511  0.025029  0.013853\n",
              "3                  SVM  0.031114  0.033029  0.011387"
            ],
            "text/html": [
              "\n",
              "  <div id=\"df-22732290-7799-4b0a-9db6-7f55422384ff\">\n",
              "    <div class=\"colab-df-container\">\n",
              "      <div>\n",
              "<style scoped>\n",
              "    .dataframe tbody tr th:only-of-type {\n",
              "        vertical-align: middle;\n",
              "    }\n",
              "\n",
              "    .dataframe tbody tr th {\n",
              "        vertical-align: top;\n",
              "    }\n",
              "\n",
              "    .dataframe thead th {\n",
              "        text-align: right;\n",
              "    }\n",
              "</style>\n",
              "<table border=\"1\" class=\"dataframe\">\n",
              "  <thead>\n",
              "    <tr style=\"text-align: right;\">\n",
              "      <th></th>\n",
              "      <th>Kernel</th>\n",
              "      <th>Original</th>\n",
              "      <th>PCA</th>\n",
              "      <th>LDA</th>\n",
              "    </tr>\n",
              "  </thead>\n",
              "  <tbody>\n",
              "    <tr>\n",
              "      <th>0</th>\n",
              "      <td>Naive</td>\n",
              "      <td>0.010058</td>\n",
              "      <td>0.006203</td>\n",
              "      <td>0.004824</td>\n",
              "    </tr>\n",
              "    <tr>\n",
              "      <th>1</th>\n",
              "      <td>Random Forest</td>\n",
              "      <td>0.151985</td>\n",
              "      <td>0.349165</td>\n",
              "      <td>0.102122</td>\n",
              "    </tr>\n",
              "    <tr>\n",
              "      <th>2</th>\n",
              "      <td>Logestic Regression</td>\n",
              "      <td>0.064511</td>\n",
              "      <td>0.025029</td>\n",
              "      <td>0.013853</td>\n",
              "    </tr>\n",
              "    <tr>\n",
              "      <th>3</th>\n",
              "      <td>SVM</td>\n",
              "      <td>0.031114</td>\n",
              "      <td>0.033029</td>\n",
              "      <td>0.011387</td>\n",
              "    </tr>\n",
              "  </tbody>\n",
              "</table>\n",
              "</div>\n",
              "      <button class=\"colab-df-convert\" onclick=\"convertToInteractive('df-22732290-7799-4b0a-9db6-7f55422384ff')\"\n",
              "              title=\"Convert this dataframe to an interactive table.\"\n",
              "              style=\"display:none;\">\n",
              "        \n",
              "  <svg xmlns=\"http://www.w3.org/2000/svg\" height=\"24px\"viewBox=\"0 0 24 24\"\n",
              "       width=\"24px\">\n",
              "    <path d=\"M0 0h24v24H0V0z\" fill=\"none\"/>\n",
              "    <path d=\"M18.56 5.44l.94 2.06.94-2.06 2.06-.94-2.06-.94-.94-2.06-.94 2.06-2.06.94zm-11 1L8.5 8.5l.94-2.06 2.06-.94-2.06-.94L8.5 2.5l-.94 2.06-2.06.94zm10 10l.94 2.06.94-2.06 2.06-.94-2.06-.94-.94-2.06-.94 2.06-2.06.94z\"/><path d=\"M17.41 7.96l-1.37-1.37c-.4-.4-.92-.59-1.43-.59-.52 0-1.04.2-1.43.59L10.3 9.45l-7.72 7.72c-.78.78-.78 2.05 0 2.83L4 21.41c.39.39.9.59 1.41.59.51 0 1.02-.2 1.41-.59l7.78-7.78 2.81-2.81c.8-.78.8-2.07 0-2.86zM5.41 20L4 18.59l7.72-7.72 1.47 1.35L5.41 20z\"/>\n",
              "  </svg>\n",
              "      </button>\n",
              "      \n",
              "  <style>\n",
              "    .colab-df-container {\n",
              "      display:flex;\n",
              "      flex-wrap:wrap;\n",
              "      gap: 12px;\n",
              "    }\n",
              "\n",
              "    .colab-df-convert {\n",
              "      background-color: #E8F0FE;\n",
              "      border: none;\n",
              "      border-radius: 50%;\n",
              "      cursor: pointer;\n",
              "      display: none;\n",
              "      fill: #1967D2;\n",
              "      height: 32px;\n",
              "      padding: 0 0 0 0;\n",
              "      width: 32px;\n",
              "    }\n",
              "\n",
              "    .colab-df-convert:hover {\n",
              "      background-color: #E2EBFA;\n",
              "      box-shadow: 0px 1px 2px rgba(60, 64, 67, 0.3), 0px 1px 3px 1px rgba(60, 64, 67, 0.15);\n",
              "      fill: #174EA6;\n",
              "    }\n",
              "\n",
              "    [theme=dark] .colab-df-convert {\n",
              "      background-color: #3B4455;\n",
              "      fill: #D2E3FC;\n",
              "    }\n",
              "\n",
              "    [theme=dark] .colab-df-convert:hover {\n",
              "      background-color: #434B5C;\n",
              "      box-shadow: 0px 1px 3px 1px rgba(0, 0, 0, 0.15);\n",
              "      filter: drop-shadow(0px 1px 2px rgba(0, 0, 0, 0.3));\n",
              "      fill: #FFFFFF;\n",
              "    }\n",
              "  </style>\n",
              "\n",
              "      <script>\n",
              "        const buttonEl =\n",
              "          document.querySelector('#df-22732290-7799-4b0a-9db6-7f55422384ff button.colab-df-convert');\n",
              "        buttonEl.style.display =\n",
              "          google.colab.kernel.accessAllowed ? 'block' : 'none';\n",
              "\n",
              "        async function convertToInteractive(key) {\n",
              "          const element = document.querySelector('#df-22732290-7799-4b0a-9db6-7f55422384ff');\n",
              "          const dataTable =\n",
              "            await google.colab.kernel.invokeFunction('convertToInteractive',\n",
              "                                                     [key], {});\n",
              "          if (!dataTable) return;\n",
              "\n",
              "          const docLinkHtml = 'Like what you see? Visit the ' +\n",
              "            '<a target=\"_blank\" href=https://colab.research.google.com/notebooks/data_table.ipynb>data table notebook</a>'\n",
              "            + ' to learn more about interactive tables.';\n",
              "          element.innerHTML = '';\n",
              "          dataTable['output_type'] = 'display_data';\n",
              "          await google.colab.output.renderOutput(dataTable, element);\n",
              "          const docLink = document.createElement('div');\n",
              "          docLink.innerHTML = docLinkHtml;\n",
              "          element.appendChild(docLink);\n",
              "        }\n",
              "      </script>\n",
              "    </div>\n",
              "  </div>\n",
              "  "
            ]
          },
          "metadata": {},
          "execution_count": 134
        }
      ]
    },
    {
      "cell_type": "code",
      "source": [],
      "metadata": {
        "id": "ih_GADk-4prk"
      },
      "id": "ih_GADk-4prk",
      "execution_count": 134,
      "outputs": []
    },
    {
      "cell_type": "markdown",
      "source": [
        "# ROC Curve"
      ],
      "metadata": {
        "id": "0lcQVPQ-RYDW"
      },
      "id": "0lcQVPQ-RYDW"
    },
    {
      "cell_type": "code",
      "source": [
        "from sklearn.metrics import roc_curve\n",
        "\n",
        "# roc curve for models\n",
        "fpr1, tpr1, thresh1 = roc_curve(y_test, y_pred_rf, pos_label=1)\n",
        "fpr2, tpr2, thresh2 = roc_curve(y_test, y_pred_nb, pos_label=1)\n",
        "fpr3, tpr3, thresh3 = roc_curve(y_test, y_pred_lr, pos_label=1)\n",
        "fpr4, tpr4, thresh4 = roc_curve(y_test, y_pred_svm, pos_label=1)\n",
        "# fpr5, tpr5, thresh5 = roc_curve(y_test, y_pred_ksvm2, pos_label=1)\n",
        "\n",
        "\n",
        "# # roc curve for tpr = fpr \n",
        "# random_probs = [0 for i in range(len(y_test))]\n",
        "# p_fpr, p_tpr, _ = roc_curve(y_test, random_probs, pos_label=1)"
      ],
      "metadata": {
        "id": "IF2-WvUe4sjn"
      },
      "id": "IF2-WvUe4sjn",
      "execution_count": 135,
      "outputs": []
    },
    {
      "cell_type": "code",
      "source": [],
      "metadata": {
        "id": "Gi2dFnMT7O6e"
      },
      "id": "Gi2dFnMT7O6e",
      "execution_count": 135,
      "outputs": []
    },
    {
      "cell_type": "code",
      "source": [
        "from sklearn.metrics import roc_auc_score\n",
        "\n",
        "# auc scores\n",
        "auc_score1 = roc_auc_score(y_test, y_pred_rf)\n",
        "auc_score2 = roc_auc_score(y_test, y_pred_rf)\n",
        "\n",
        "print(auc_score1, auc_score2)"
      ],
      "metadata": {
        "id": "nuPc3_e24zEZ",
        "colab": {
          "base_uri": "https://localhost:8080/"
        },
        "outputId": "d30224e0-1410-4ff8-bd02-bc9b2ea1b003"
      },
      "id": "nuPc3_e24zEZ",
      "execution_count": 136,
      "outputs": [
        {
          "output_type": "stream",
          "name": "stdout",
          "text": [
            "0.5 0.5\n"
          ]
        }
      ]
    },
    {
      "cell_type": "code",
      "source": [
        "from sklearn.metrics import roc_curve\n",
        "\n",
        "# roc curve for models\n",
        "fpr1, tpr1, thresh1 = roc_curve(y_test, y_pred_rf, pos_label=1)\n",
        "fpr2, tpr2, thresh2 = roc_curve(y_test, y_pred_nb, pos_label=1)\n",
        "fpr3, tpr3, thresh3 = roc_curve(y_test, y_pred_lr, pos_label=1)\n",
        "fpr4, tpr4, thresh4 = roc_curve(y_test, y_pred_svm, pos_label=1)\n",
        "fpr5, tpr5, thresh5 = roc_curve(y_test, y_pred_ksvm3, pos_label=1)\n",
        "\n",
        "\n",
        "y_pred_rf# matplotlib\n",
        "import matplotlib.pyplot as plt\n",
        "plt.style.use('seaborn')\n",
        "\n",
        "# plot roc curves\n",
        "plt.plot(fpr1, tpr1, linestyle='solid',color='orange', label='Random Forest')\n",
        "plt.plot(fpr2, tpr2, linestyle='solid',color='green', label='Naive Bayes')\n",
        "plt.plot(fpr3, tpr3, linestyle='solid',color='red', label='Logistic Regression')\n",
        "plt.plot(fpr4, tpr4, linestyle='solid',color='blue', label='SVM')\n",
        "# plt.plot(fpr4, tpr4, linestyle='solid',color='blue', label='Kernel SVM with Sigmoid')\n",
        "# title\n",
        "plt.title('ROC curve (Original)')\n",
        "# x label\n",
        "plt.xlabel('False Positive Rate')\n",
        "# y label\n",
        "plt.ylabel('True Positive rate')\n",
        "\n",
        "plt.legend(loc='best')\n",
        "plt.savefig('ROC',dpi=300)\n",
        "plt.show();\n"
      ],
      "metadata": {
        "colab": {
          "base_uri": "https://localhost:8080/",
          "height": 376
        },
        "id": "exbJMiVt5-TI",
        "outputId": "6c174570-12e9-4487-ffdd-6c95ed30fecf"
      },
      "id": "exbJMiVt5-TI",
      "execution_count": 137,
      "outputs": [
        {
          "output_type": "display_data",
          "data": {
            "text/plain": [
              "<Figure size 576x396 with 1 Axes>"
            ],
            "image/png": "[encoded data removed]"
          },
          "metadata": {}
        }
      ]
    },
    {
      "cell_type": "code",
      "source": [
        "from sklearn.metrics import roc_curve\n",
        "\n",
        "# roc curve for models\n",
        "fpr1, tpr1, thresh1 = roc_curve(y_test, y_pred_rfpca, pos_label=1)\n",
        "fpr2, tpr2, thresh2 = roc_curve(y_test, y_pred_nbpca, pos_label=1)\n",
        "fpr3, tpr3, thresh3 = roc_curve(y_test, y_pred_lrpca, pos_label=1)\n",
        "fpr4, tpr4, thresh4 = roc_curve(y_test, y_pred_svmpca, pos_label=1)\n",
        "fpr5, tpr5, thresh5 = roc_curve(y_test, y_pred_ksvmpca3, pos_label=1)\n",
        "\n",
        "\n"
      ],
      "metadata": {
        "id": "IHtpamn57rDp"
      },
      "id": "IHtpamn57rDp",
      "execution_count": 138,
      "outputs": []
    },
    {
      "cell_type": "code",
      "source": [
        "y_pred_rf# matplotlib\n",
        "import matplotlib.pyplot as plt\n",
        "plt.style.use('seaborn')\n",
        "\n",
        "# plot roc curves\n",
        "plt.plot(fpr1, tpr1, linestyle='solid',color='orange', label='Random Forest')\n",
        "plt.plot(fpr2, tpr2, linestyle='solid',color='green', label='Naive Bayes')\n",
        "plt.plot(fpr3, tpr3, linestyle='solid',color='red', label='Logistic Regression')\n",
        "plt.plot(fpr4, tpr4, linestyle='solid',color='blue', label='SVM')\n",
        "# plt.plot(fpr4, tpr4, linestyle='solid',color='blue', label='Kernel SVM with Sigmoid')\n",
        "# title\n",
        "plt.title('ROC curve (with PCA)')\n",
        "# x label\n",
        "plt.xlabel('False Positive Rate')\n",
        "# y label\n",
        "plt.ylabel('True Positive rate')\n",
        "\n",
        "plt.legend(loc='best')\n",
        "plt.savefig('ROC',dpi=300)\n",
        "plt.show();"
      ],
      "metadata": {
        "colab": {
          "base_uri": "https://localhost:8080/",
          "height": 376
        },
        "id": "SA3Ixx_R8SvT",
        "outputId": "19fc9b0b-5617-40d6-8a35-d26e280c3a29"
      },
      "id": "SA3Ixx_R8SvT",
      "execution_count": 139,
      "outputs": [
        {
          "output_type": "display_data",
          "data": {
            "text/plain": [
              "<Figure size 576x396 with 1 Axes>"
            ],
            "image/png": "[encoded data removed]"
          },
          "metadata": {}
        }
      ]
    },
    {
      "cell_type": "code",
      "source": [
        "from sklearn.metrics import roc_curve\n",
        "\n",
        "# roc curve for models\n",
        "fpr1, tpr1, thresh1 = roc_curve(y_test, y_pred_rflda, pos_label=1)\n",
        "fpr2, tpr2, thresh2 = roc_curve(y_test, y_pred_nblda, pos_label=1)\n",
        "fpr3, tpr3, thresh3 = roc_curve(y_test, y_pred_lrlda, pos_label=1)\n",
        "fpr4, tpr4, thresh4 = roc_curve(y_test, y_pred_svmlda, pos_label=1)\n",
        "fpr5, tpr5, thresh5 = roc_curve(y_test, y_pred_ksvmlda3, pos_label=1)\n",
        "\n",
        "\n"
      ],
      "metadata": {
        "id": "IZ2UXJR48W8Q"
      },
      "id": "IZ2UXJR48W8Q",
      "execution_count": 140,
      "outputs": []
    },
    {
      "cell_type": "code",
      "source": [
        "y_pred_rf# matplotlib\n",
        "import matplotlib.pyplot as plt\n",
        "plt.style.use('seaborn')\n",
        "\n",
        "# plot roc curves\n",
        "plt.plot(fpr1, tpr1, linestyle='solid',color='orange', label='Random Forest')\n",
        "plt.plot(fpr2, tpr2, linestyle='solid',color='green', label='Naive Bayes')\n",
        "plt.plot(fpr3, tpr3, linestyle='solid',color='red', label='Logistic Regression')\n",
        "plt.plot(fpr4, tpr4, linestyle='solid',color='blue', label='SVM')\n",
        "# plt.plot(fpr4, tpr4, linestyle='solid',color='blue', label='Kernel SVM with Sigmoid')\n",
        "# title\n",
        "plt.title('ROC curve (With LDA)')\n",
        "# x label\n",
        "plt.xlabel('False Positive Rate')\n",
        "# y label\n",
        "plt.ylabel('True Positive rate')\n",
        "\n",
        "plt.legend(loc='best')\n",
        "plt.savefig('ROC',dpi=300)\n",
        "plt.show();\n",
        "\n"
      ],
      "metadata": {
        "colab": {
          "base_uri": "https://localhost:8080/",
          "height": 376
        },
        "id": "0o4GWUnO-vKR",
        "outputId": "05dca32b-6462-4e5a-c9a9-c9802867bc0a"
      },
      "id": "0o4GWUnO-vKR",
      "execution_count": 141,
      "outputs": [
        {
          "output_type": "display_data",
          "data": {
            "text/plain": [
              "<Figure size 576x396 with 1 Axes>"
            ],
            "image/png": "[encoded data removed]"
          },
          "metadata": {}
        }
      ]
    },
    {
      "cell_type": "markdown",
      "source": [
        "# Kernel SVM"
      ],
      "metadata": {
        "id": "BniLUIZJRmqQ"
      },
      "id": "BniLUIZJRmqQ"
    },
    {
      "cell_type": "code",
      "source": [
        "y_pred_ksvm1=metrics.f1_score(y_test, y_pred_ksvm1)\n",
        "y_pred_ksvm2=metrics.f1_score(y_test, y_pred_ksvm2)\n",
        "y_pred_ksvm3=metrics.f1_score(y_test, y_pred_ksvm3)\n",
        "y_pred_ksvm4=metrics.f1_score(y_test, y_pred_ksvm4)\n",
        "\n",
        "y_pred_ksvmpca1=metrics.f1_score(y_test, y_pred_ksvmpca1)\n",
        "y_pred_ksvmpca2=metrics.f1_score(y_test, y_pred_ksvmpca2)\n",
        "y_pred_ksvmpca3=metrics.f1_score(y_test, y_pred_ksvmpca3)\n",
        "y_pred_ksvmpca4=metrics.f1_score(y_test, y_pred_ksvmpca4)\n",
        "\n",
        "y_pred_ksvmlda1=metrics.f1_score(y_test, y_pred_ksvmlda1)\n",
        "y_pred_ksvmlda2=metrics.f1_score(y_test, y_pred_ksvmlda2)\n",
        "y_pred_ksvmlda3=metrics.f1_score(y_test, y_pred_ksvmlda3)\n",
        "y_pred_ksvmlda4=metrics.f1_score(y_test, y_pred_ksvmlda4)"
      ],
      "metadata": {
        "id": "0XP5NS6RB9Ct"
      },
      "id": "0XP5NS6RB9Ct",
      "execution_count": 142,
      "outputs": []
    },
    {
      "cell_type": "code",
      "source": [
        "data = [['Linear', y_pred_ksvm1, y_pred_ksvmpca1, y_pred_ksvmlda1], ['RBF', y_pred_ksvm2, y_pred_ksvmpca2, y_pred_ksvmlda2],\n",
        "        ['Sigmoid', y_pred_ksvm3, y_pred_ksvmpca3, y_pred_ksvmlda3],['Polynomial', y_pred_ksvm4, y_pred_ksvmpca4, y_pred_ksvmlda4]]\n",
        " \n",
        "# Create the pandas DataFrame \n",
        "df = pd.DataFrame(data, columns=['Method', 'Original','PCA',\n",
        "                                 'LDA'])\n",
        " \n",
        "# print dataframe.\n",
        "df\n",
        "\n"
      ],
      "metadata": {
        "colab": {
          "base_uri": "https://localhost:8080/",
          "height": 175
        },
        "id": "I2DFFJcEQ3wM",
        "outputId": "08965feb-1f6b-4810-90e3-827b5a03dc86"
      },
      "id": "I2DFFJcEQ3wM",
      "execution_count": 143,
      "outputs": [
        {
          "output_type": "execute_result",
          "data": {
            "text/plain": [
              "       Method  Original       PCA       LDA\n",
              "0      Linear  0.000000  0.951613  0.976378\n",
              "1         RBF  0.000000  0.925620  0.976000\n",
              "2     Sigmoid  0.916667  0.951613  0.968254\n",
              "3  Polynomial  0.000000  0.568182  0.776699"
            ],
            "text/html": [
              "\n",
              "  <div id=\"df-193f17fb-702f-47b7-ace4-ae8d4c01cc49\">\n",
              "    <div class=\"colab-df-container\">\n",
              "      <div>\n",
              "<style scoped>\n",
              "    .dataframe tbody tr th:only-of-type {\n",
              "        vertical-align: middle;\n",
              "    }\n",
              "\n",
              "    .dataframe tbody tr th {\n",
              "        vertical-align: top;\n",
              "    }\n",
              "\n",
              "    .dataframe thead th {\n",
              "        text-align: right;\n",
              "    }\n",
              "</style>\n",
              "<table border=\"1\" class=\"dataframe\">\n",
              "  <thead>\n",
              "    <tr style=\"text-align: right;\">\n",
              "      <th></th>\n",
              "      <th>Method</th>\n",
              "      <th>Original</th>\n",
              "      <th>PCA</th>\n",
              "      <th>LDA</th>\n",
              "    </tr>\n",
              "  </thead>\n",
              "  <tbody>\n",
              "    <tr>\n",
              "      <th>0</th>\n",
              "      <td>Linear</td>\n",
              "      <td>0.000000</td>\n",
              "      <td>0.951613</td>\n",
              "      <td>0.976378</td>\n",
              "    </tr>\n",
              "    <tr>\n",
              "      <th>1</th>\n",
              "      <td>RBF</td>\n",
              "      <td>0.000000</td>\n",
              "      <td>0.925620</td>\n",
              "      <td>0.976000</td>\n",
              "    </tr>\n",
              "    <tr>\n",
              "      <th>2</th>\n",
              "      <td>Sigmoid</td>\n",
              "      <td>0.916667</td>\n",
              "      <td>0.951613</td>\n",
              "      <td>0.968254</td>\n",
              "    </tr>\n",
              "    <tr>\n",
              "      <th>3</th>\n",
              "      <td>Polynomial</td>\n",
              "      <td>0.000000</td>\n",
              "      <td>0.568182</td>\n",
              "      <td>0.776699</td>\n",
              "    </tr>\n",
              "  </tbody>\n",
              "</table>\n",
              "</div>\n",
              "      <button class=\"colab-df-convert\" onclick=\"convertToInteractive('df-193f17fb-702f-47b7-ace4-ae8d4c01cc49')\"\n",
              "              title=\"Convert this dataframe to an interactive table.\"\n",
              "              style=\"display:none;\">\n",
              "        \n",
              "  <svg xmlns=\"http://www.w3.org/2000/svg\" height=\"24px\"viewBox=\"0 0 24 24\"\n",
              "       width=\"24px\">\n",
              "    <path d=\"M0 0h24v24H0V0z\" fill=\"none\"/>\n",
              "    <path d=\"M18.56 5.44l.94 2.06.94-2.06 2.06-.94-2.06-.94-.94-2.06-.94 2.06-2.06.94zm-11 1L8.5 8.5l.94-2.06 2.06-.94-2.06-.94L8.5 2.5l-.94 2.06-2.06.94zm10 10l.94 2.06.94-2.06 2.06-.94-2.06-.94-.94-2.06-.94 2.06-2.06.94z\"/><path d=\"M17.41 7.96l-1.37-1.37c-.4-.4-.92-.59-1.43-.59-.52 0-1.04.2-1.43.59L10.3 9.45l-7.72 7.72c-.78.78-.78 2.05 0 2.83L4 21.41c.39.39.9.59 1.41.59.51 0 1.02-.2 1.41-.59l7.78-7.78 2.81-2.81c.8-.78.8-2.07 0-2.86zM5.41 20L4 18.59l7.72-7.72 1.47 1.35L5.41 20z\"/>\n",
              "  </svg>\n",
              "      </button>\n",
              "      \n",
              "  <style>\n",
              "    .colab-df-container {\n",
              "      display:flex;\n",
              "      flex-wrap:wrap;\n",
              "      gap: 12px;\n",
              "    }\n",
              "\n",
              "    .colab-df-convert {\n",
              "      background-color: #E8F0FE;\n",
              "      border: none;\n",
              "      border-radius: 50%;\n",
              "      cursor: pointer;\n",
              "      display: none;\n",
              "      fill: #1967D2;\n",
              "      height: 32px;\n",
              "      padding: 0 0 0 0;\n",
              "      width: 32px;\n",
              "    }\n",
              "\n",
              "    .colab-df-convert:hover {\n",
              "      background-color: #E2EBFA;\n",
              "      box-shadow: 0px 1px 2px rgba(60, 64, 67, 0.3), 0px 1px 3px 1px rgba(60, 64, 67, 0.15);\n",
              "      fill: #174EA6;\n",
              "    }\n",
              "\n",
              "    [theme=dark] .colab-df-convert {\n",
              "      background-color: #3B4455;\n",
              "      fill: #D2E3FC;\n",
              "    }\n",
              "\n",
              "    [theme=dark] .colab-df-convert:hover {\n",
              "      background-color: #434B5C;\n",
              "      box-shadow: 0px 1px 3px 1px rgba(0, 0, 0, 0.15);\n",
              "      filter: drop-shadow(0px 1px 2px rgba(0, 0, 0, 0.3));\n",
              "      fill: #FFFFFF;\n",
              "    }\n",
              "  </style>\n",
              "\n",
              "      <script>\n",
              "        const buttonEl =\n",
              "          document.querySelector('#df-193f17fb-702f-47b7-ace4-ae8d4c01cc49 button.colab-df-convert');\n",
              "        buttonEl.style.display =\n",
              "          google.colab.kernel.accessAllowed ? 'block' : 'none';\n",
              "\n",
              "        async function convertToInteractive(key) {\n",
              "          const element = document.querySelector('#df-193f17fb-702f-47b7-ace4-ae8d4c01cc49');\n",
              "          const dataTable =\n",
              "            await google.colab.kernel.invokeFunction('convertToInteractive',\n",
              "                                                     [key], {});\n",
              "          if (!dataTable) return;\n",
              "\n",
              "          const docLinkHtml = 'Like what you see? Visit the ' +\n",
              "            '<a target=\"_blank\" href=https://colab.research.google.com/notebooks/data_table.ipynb>data table notebook</a>'\n",
              "            + ' to learn more about interactive tables.';\n",
              "          element.innerHTML = '';\n",
              "          dataTable['output_type'] = 'display_data';\n",
              "          await google.colab.output.renderOutput(dataTable, element);\n",
              "          const docLink = document.createElement('div');\n",
              "          docLink.innerHTML = docLinkHtml;\n",
              "          element.appendChild(docLink);\n",
              "        }\n",
              "      </script>\n",
              "    </div>\n",
              "  </div>\n",
              "  "
            ]
          },
          "metadata": {},
          "execution_count": 143
        }
      ]
    }
  ],
  "metadata": {
    "kernelspec": {
      "display_name": "Python 3 (ipykernel)",
      "language": "python",
      "name": "python3"
    },
    "language_info": {
      "codemirror_mode": {
        "name": "ipython",
        "version": 3
      },
      "file_extension": ".py",
      "mimetype": "text/x-python",
      "name": "python",
      "nbconvert_exporter": "python",
      "pygments_lexer": "ipython3",
      "version": "3.9.7"
    },
    "colab": {
      "provenance": []
    },
    "gpuClass": "standard"
  },
  "nbformat": 4,
  "nbformat_minor": 5
}